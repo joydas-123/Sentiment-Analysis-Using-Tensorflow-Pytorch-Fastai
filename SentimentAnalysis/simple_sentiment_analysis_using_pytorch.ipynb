{
 "cells": [
  {
   "cell_type": "code",
   "execution_count": 2,
   "id": "555e11b0",
   "metadata": {},
   "outputs": [],
   "source": [
    "import pandas as pd\n",
    "import numpy as np"
   ]
  },
  {
   "cell_type": "code",
   "execution_count": 3,
   "id": "fe7e884d",
   "metadata": {},
   "outputs": [],
   "source": [
    "df=pd.read_csv(\"Tweets.csv\")"
   ]
  },
  {
   "cell_type": "code",
   "execution_count": 4,
   "id": "b450c088",
   "metadata": {},
   "outputs": [
    {
     "data": {
      "text/html": [
       "<div>\n",
       "<style scoped>\n",
       "    .dataframe tbody tr th:only-of-type {\n",
       "        vertical-align: middle;\n",
       "    }\n",
       "\n",
       "    .dataframe tbody tr th {\n",
       "        vertical-align: top;\n",
       "    }\n",
       "\n",
       "    .dataframe thead th {\n",
       "        text-align: right;\n",
       "    }\n",
       "</style>\n",
       "<table border=\"1\" class=\"dataframe\">\n",
       "  <thead>\n",
       "    <tr style=\"text-align: right;\">\n",
       "      <th></th>\n",
       "      <th>tweet_id</th>\n",
       "      <th>airline_sentiment</th>\n",
       "      <th>airline_sentiment_confidence</th>\n",
       "      <th>negativereason</th>\n",
       "      <th>negativereason_confidence</th>\n",
       "      <th>airline</th>\n",
       "      <th>airline_sentiment_gold</th>\n",
       "      <th>name</th>\n",
       "      <th>negativereason_gold</th>\n",
       "      <th>retweet_count</th>\n",
       "      <th>text</th>\n",
       "      <th>tweet_coord</th>\n",
       "      <th>tweet_created</th>\n",
       "      <th>tweet_location</th>\n",
       "      <th>user_timezone</th>\n",
       "    </tr>\n",
       "  </thead>\n",
       "  <tbody>\n",
       "    <tr>\n",
       "      <th>0</th>\n",
       "      <td>570306133677760513</td>\n",
       "      <td>neutral</td>\n",
       "      <td>1.0000</td>\n",
       "      <td>NaN</td>\n",
       "      <td>NaN</td>\n",
       "      <td>Virgin America</td>\n",
       "      <td>NaN</td>\n",
       "      <td>cairdin</td>\n",
       "      <td>NaN</td>\n",
       "      <td>0</td>\n",
       "      <td>@VirginAmerica What @dhepburn said.</td>\n",
       "      <td>NaN</td>\n",
       "      <td>2015-02-24 11:35:52 -0800</td>\n",
       "      <td>NaN</td>\n",
       "      <td>Eastern Time (US &amp; Canada)</td>\n",
       "    </tr>\n",
       "    <tr>\n",
       "      <th>1</th>\n",
       "      <td>570301130888122368</td>\n",
       "      <td>positive</td>\n",
       "      <td>0.3486</td>\n",
       "      <td>NaN</td>\n",
       "      <td>0.0000</td>\n",
       "      <td>Virgin America</td>\n",
       "      <td>NaN</td>\n",
       "      <td>jnardino</td>\n",
       "      <td>NaN</td>\n",
       "      <td>0</td>\n",
       "      <td>@VirginAmerica plus you've added commercials t...</td>\n",
       "      <td>NaN</td>\n",
       "      <td>2015-02-24 11:15:59 -0800</td>\n",
       "      <td>NaN</td>\n",
       "      <td>Pacific Time (US &amp; Canada)</td>\n",
       "    </tr>\n",
       "    <tr>\n",
       "      <th>2</th>\n",
       "      <td>570301083672813571</td>\n",
       "      <td>neutral</td>\n",
       "      <td>0.6837</td>\n",
       "      <td>NaN</td>\n",
       "      <td>NaN</td>\n",
       "      <td>Virgin America</td>\n",
       "      <td>NaN</td>\n",
       "      <td>yvonnalynn</td>\n",
       "      <td>NaN</td>\n",
       "      <td>0</td>\n",
       "      <td>@VirginAmerica I didn't today... Must mean I n...</td>\n",
       "      <td>NaN</td>\n",
       "      <td>2015-02-24 11:15:48 -0800</td>\n",
       "      <td>Lets Play</td>\n",
       "      <td>Central Time (US &amp; Canada)</td>\n",
       "    </tr>\n",
       "    <tr>\n",
       "      <th>3</th>\n",
       "      <td>570301031407624196</td>\n",
       "      <td>negative</td>\n",
       "      <td>1.0000</td>\n",
       "      <td>Bad Flight</td>\n",
       "      <td>0.7033</td>\n",
       "      <td>Virgin America</td>\n",
       "      <td>NaN</td>\n",
       "      <td>jnardino</td>\n",
       "      <td>NaN</td>\n",
       "      <td>0</td>\n",
       "      <td>@VirginAmerica it's really aggressive to blast...</td>\n",
       "      <td>NaN</td>\n",
       "      <td>2015-02-24 11:15:36 -0800</td>\n",
       "      <td>NaN</td>\n",
       "      <td>Pacific Time (US &amp; Canada)</td>\n",
       "    </tr>\n",
       "    <tr>\n",
       "      <th>4</th>\n",
       "      <td>570300817074462722</td>\n",
       "      <td>negative</td>\n",
       "      <td>1.0000</td>\n",
       "      <td>Can't Tell</td>\n",
       "      <td>1.0000</td>\n",
       "      <td>Virgin America</td>\n",
       "      <td>NaN</td>\n",
       "      <td>jnardino</td>\n",
       "      <td>NaN</td>\n",
       "      <td>0</td>\n",
       "      <td>@VirginAmerica and it's a really big bad thing...</td>\n",
       "      <td>NaN</td>\n",
       "      <td>2015-02-24 11:14:45 -0800</td>\n",
       "      <td>NaN</td>\n",
       "      <td>Pacific Time (US &amp; Canada)</td>\n",
       "    </tr>\n",
       "  </tbody>\n",
       "</table>\n",
       "</div>"
      ],
      "text/plain": [
       "             tweet_id airline_sentiment  airline_sentiment_confidence  \\\n",
       "0  570306133677760513           neutral                        1.0000   \n",
       "1  570301130888122368          positive                        0.3486   \n",
       "2  570301083672813571           neutral                        0.6837   \n",
       "3  570301031407624196          negative                        1.0000   \n",
       "4  570300817074462722          negative                        1.0000   \n",
       "\n",
       "  negativereason  negativereason_confidence         airline  \\\n",
       "0            NaN                        NaN  Virgin America   \n",
       "1            NaN                     0.0000  Virgin America   \n",
       "2            NaN                        NaN  Virgin America   \n",
       "3     Bad Flight                     0.7033  Virgin America   \n",
       "4     Can't Tell                     1.0000  Virgin America   \n",
       "\n",
       "  airline_sentiment_gold        name negativereason_gold  retweet_count  \\\n",
       "0                    NaN     cairdin                 NaN              0   \n",
       "1                    NaN    jnardino                 NaN              0   \n",
       "2                    NaN  yvonnalynn                 NaN              0   \n",
       "3                    NaN    jnardino                 NaN              0   \n",
       "4                    NaN    jnardino                 NaN              0   \n",
       "\n",
       "                                                text tweet_coord  \\\n",
       "0                @VirginAmerica What @dhepburn said.         NaN   \n",
       "1  @VirginAmerica plus you've added commercials t...         NaN   \n",
       "2  @VirginAmerica I didn't today... Must mean I n...         NaN   \n",
       "3  @VirginAmerica it's really aggressive to blast...         NaN   \n",
       "4  @VirginAmerica and it's a really big bad thing...         NaN   \n",
       "\n",
       "               tweet_created tweet_location               user_timezone  \n",
       "0  2015-02-24 11:35:52 -0800            NaN  Eastern Time (US & Canada)  \n",
       "1  2015-02-24 11:15:59 -0800            NaN  Pacific Time (US & Canada)  \n",
       "2  2015-02-24 11:15:48 -0800      Lets Play  Central Time (US & Canada)  \n",
       "3  2015-02-24 11:15:36 -0800            NaN  Pacific Time (US & Canada)  \n",
       "4  2015-02-24 11:14:45 -0800            NaN  Pacific Time (US & Canada)  "
      ]
     },
     "execution_count": 4,
     "metadata": {},
     "output_type": "execute_result"
    }
   ],
   "source": [
    "df.head()"
   ]
  },
  {
   "cell_type": "code",
   "execution_count": 5,
   "id": "f83af8b2",
   "metadata": {},
   "outputs": [],
   "source": [
    "df=df[[\"text\",\"airline_sentiment\"]]"
   ]
  },
  {
   "cell_type": "code",
   "execution_count": 6,
   "id": "324e01b4",
   "metadata": {},
   "outputs": [
    {
     "data": {
      "text/html": [
       "<div>\n",
       "<style scoped>\n",
       "    .dataframe tbody tr th:only-of-type {\n",
       "        vertical-align: middle;\n",
       "    }\n",
       "\n",
       "    .dataframe tbody tr th {\n",
       "        vertical-align: top;\n",
       "    }\n",
       "\n",
       "    .dataframe thead th {\n",
       "        text-align: right;\n",
       "    }\n",
       "</style>\n",
       "<table border=\"1\" class=\"dataframe\">\n",
       "  <thead>\n",
       "    <tr style=\"text-align: right;\">\n",
       "      <th></th>\n",
       "      <th>text</th>\n",
       "      <th>airline_sentiment</th>\n",
       "    </tr>\n",
       "  </thead>\n",
       "  <tbody>\n",
       "    <tr>\n",
       "      <th>0</th>\n",
       "      <td>@VirginAmerica What @dhepburn said.</td>\n",
       "      <td>neutral</td>\n",
       "    </tr>\n",
       "    <tr>\n",
       "      <th>1</th>\n",
       "      <td>@VirginAmerica plus you've added commercials t...</td>\n",
       "      <td>positive</td>\n",
       "    </tr>\n",
       "    <tr>\n",
       "      <th>2</th>\n",
       "      <td>@VirginAmerica I didn't today... Must mean I n...</td>\n",
       "      <td>neutral</td>\n",
       "    </tr>\n",
       "    <tr>\n",
       "      <th>3</th>\n",
       "      <td>@VirginAmerica it's really aggressive to blast...</td>\n",
       "      <td>negative</td>\n",
       "    </tr>\n",
       "    <tr>\n",
       "      <th>4</th>\n",
       "      <td>@VirginAmerica and it's a really big bad thing...</td>\n",
       "      <td>negative</td>\n",
       "    </tr>\n",
       "  </tbody>\n",
       "</table>\n",
       "</div>"
      ],
      "text/plain": [
       "                                                text airline_sentiment\n",
       "0                @VirginAmerica What @dhepburn said.           neutral\n",
       "1  @VirginAmerica plus you've added commercials t...          positive\n",
       "2  @VirginAmerica I didn't today... Must mean I n...           neutral\n",
       "3  @VirginAmerica it's really aggressive to blast...          negative\n",
       "4  @VirginAmerica and it's a really big bad thing...          negative"
      ]
     },
     "execution_count": 6,
     "metadata": {},
     "output_type": "execute_result"
    }
   ],
   "source": [
    "df.head()"
   ]
  },
  {
   "cell_type": "code",
   "execution_count": 7,
   "id": "bc08b43a",
   "metadata": {},
   "outputs": [
    {
     "data": {
      "text/plain": [
       "(14640, 2)"
      ]
     },
     "execution_count": 7,
     "metadata": {},
     "output_type": "execute_result"
    }
   ],
   "source": [
    "df.shape"
   ]
  },
  {
   "cell_type": "code",
   "execution_count": 8,
   "id": "3e5c9df2",
   "metadata": {},
   "outputs": [
    {
     "data": {
      "text/plain": [
       "array(['neutral', 'positive', 'negative'], dtype=object)"
      ]
     },
     "execution_count": 8,
     "metadata": {},
     "output_type": "execute_result"
    }
   ],
   "source": [
    "df.airline_sentiment.unique()"
   ]
  },
  {
   "cell_type": "code",
   "execution_count": 9,
   "id": "581abbce",
   "metadata": {},
   "outputs": [
    {
     "data": {
      "text/plain": [
       "text                 0\n",
       "airline_sentiment    0\n",
       "dtype: int64"
      ]
     },
     "execution_count": 9,
     "metadata": {},
     "output_type": "execute_result"
    }
   ],
   "source": [
    "df.isnull().sum()"
   ]
  },
  {
   "cell_type": "code",
   "execution_count": 10,
   "id": "d21a4935",
   "metadata": {},
   "outputs": [
    {
     "data": {
      "text/plain": [
       "airline_sentiment\n",
       "negative    9178\n",
       "neutral     3099\n",
       "positive    2363\n",
       "Name: count, dtype: int64"
      ]
     },
     "execution_count": 10,
     "metadata": {},
     "output_type": "execute_result"
    }
   ],
   "source": [
    "df.airline_sentiment.value_counts()"
   ]
  },
  {
   "cell_type": "code",
   "execution_count": 11,
   "id": "b2615233",
   "metadata": {},
   "outputs": [],
   "source": [
    "import matplotlib.pyplot as plt \n",
    "import seaborn as sns"
   ]
  },
  {
   "cell_type": "code",
   "execution_count": 12,
   "id": "c0d99a35",
   "metadata": {},
   "outputs": [],
   "source": [
    "data=df[\"airline_sentiment\"]"
   ]
  },
  {
   "cell_type": "code",
   "execution_count": 13,
   "id": "bc685adb",
   "metadata": {},
   "outputs": [
    {
     "data": {
      "image/png": "[encoded data removed]",
      "text/plain": [
       "<Figure size 640x480 with 1 Axes>"
      ]
     },
     "metadata": {},
     "output_type": "display_data"
    }
   ],
   "source": [
    "ax=sns.countplot(data)\n",
    "plt.show()"
   ]
  },
  {
   "cell_type": "code",
   "execution_count": 14,
   "id": "2d9c004d",
   "metadata": {},
   "outputs": [],
   "source": [
    "LABELS=df.airline_sentiment.unique()"
   ]
  },
  {
   "cell_type": "code",
   "execution_count": 15,
   "id": "7ee0ce28",
   "metadata": {},
   "outputs": [],
   "source": [
    "label_dict={}\n",
    "for index,LABEL in enumerate(LABELS):\n",
    "    label_dict[LABEL]=index"
   ]
  },
  {
   "cell_type": "code",
   "execution_count": 16,
   "id": "6e1233ed",
   "metadata": {},
   "outputs": [
    {
     "data": {
      "text/plain": [
       "{'neutral': 0, 'positive': 1, 'negative': 2}"
      ]
     },
     "execution_count": 16,
     "metadata": {},
     "output_type": "execute_result"
    }
   ],
   "source": [
    "label_dict"
   ]
  },
  {
   "cell_type": "code",
   "execution_count": 17,
   "id": "244fe2b1",
   "metadata": {},
   "outputs": [],
   "source": [
    "df[\"airline_sentiment\"]=df[\"airline_sentiment\"].map(label_dict)"
   ]
  },
  {
   "cell_type": "code",
   "execution_count": 18,
   "id": "172f8e1b",
   "metadata": {},
   "outputs": [],
   "source": [
    "X=df.index.values\n",
    "Y=df.airline_sentiment.values"
   ]
  },
  {
   "cell_type": "code",
   "execution_count": 19,
   "id": "29a26ce6",
   "metadata": {},
   "outputs": [],
   "source": [
    "from sklearn.model_selection import train_test_split"
   ]
  },
  {
   "cell_type": "code",
   "execution_count": 20,
   "id": "aab21e4d",
   "metadata": {},
   "outputs": [],
   "source": [
    "X_train,X_val,Y_train,Y_val=train_test_split(X,Y,test_size=0.2,random_state=100,\n",
    "                                            stratify=df.airline_sentiment.values)"
   ]
  },
  {
   "cell_type": "code",
   "execution_count": 21,
   "id": "d41bb8f5",
   "metadata": {},
   "outputs": [
    {
     "data": {
      "text/plain": [
       "(11712,)"
      ]
     },
     "execution_count": 21,
     "metadata": {},
     "output_type": "execute_result"
    }
   ],
   "source": [
    "X_train.shape"
   ]
  },
  {
   "cell_type": "code",
   "execution_count": 22,
   "id": "72a38c29",
   "metadata": {},
   "outputs": [
    {
     "data": {
      "text/plain": [
       "(2928,)"
      ]
     },
     "execution_count": 22,
     "metadata": {},
     "output_type": "execute_result"
    }
   ],
   "source": [
    "X_val.shape"
   ]
  },
  {
   "cell_type": "code",
   "execution_count": 23,
   "id": "a57ebd59",
   "metadata": {},
   "outputs": [],
   "source": [
    "df[\"data_type\"]=[\"not_set\"]*df.shape[0]"
   ]
  },
  {
   "cell_type": "code",
   "execution_count": 24,
   "id": "88b88828",
   "metadata": {},
   "outputs": [
    {
     "data": {
      "text/html": [
       "<div>\n",
       "<style scoped>\n",
       "    .dataframe tbody tr th:only-of-type {\n",
       "        vertical-align: middle;\n",
       "    }\n",
       "\n",
       "    .dataframe tbody tr th {\n",
       "        vertical-align: top;\n",
       "    }\n",
       "\n",
       "    .dataframe thead th {\n",
       "        text-align: right;\n",
       "    }\n",
       "</style>\n",
       "<table border=\"1\" class=\"dataframe\">\n",
       "  <thead>\n",
       "    <tr style=\"text-align: right;\">\n",
       "      <th></th>\n",
       "      <th>text</th>\n",
       "      <th>airline_sentiment</th>\n",
       "      <th>data_type</th>\n",
       "    </tr>\n",
       "  </thead>\n",
       "  <tbody>\n",
       "    <tr>\n",
       "      <th>0</th>\n",
       "      <td>@VirginAmerica What @dhepburn said.</td>\n",
       "      <td>0</td>\n",
       "      <td>not_set</td>\n",
       "    </tr>\n",
       "    <tr>\n",
       "      <th>1</th>\n",
       "      <td>@VirginAmerica plus you've added commercials t...</td>\n",
       "      <td>1</td>\n",
       "      <td>not_set</td>\n",
       "    </tr>\n",
       "    <tr>\n",
       "      <th>2</th>\n",
       "      <td>@VirginAmerica I didn't today... Must mean I n...</td>\n",
       "      <td>0</td>\n",
       "      <td>not_set</td>\n",
       "    </tr>\n",
       "    <tr>\n",
       "      <th>3</th>\n",
       "      <td>@VirginAmerica it's really aggressive to blast...</td>\n",
       "      <td>2</td>\n",
       "      <td>not_set</td>\n",
       "    </tr>\n",
       "    <tr>\n",
       "      <th>4</th>\n",
       "      <td>@VirginAmerica and it's a really big bad thing...</td>\n",
       "      <td>2</td>\n",
       "      <td>not_set</td>\n",
       "    </tr>\n",
       "  </tbody>\n",
       "</table>\n",
       "</div>"
      ],
      "text/plain": [
       "                                                text  airline_sentiment  \\\n",
       "0                @VirginAmerica What @dhepburn said.                  0   \n",
       "1  @VirginAmerica plus you've added commercials t...                  1   \n",
       "2  @VirginAmerica I didn't today... Must mean I n...                  0   \n",
       "3  @VirginAmerica it's really aggressive to blast...                  2   \n",
       "4  @VirginAmerica and it's a really big bad thing...                  2   \n",
       "\n",
       "  data_type  \n",
       "0   not_set  \n",
       "1   not_set  \n",
       "2   not_set  \n",
       "3   not_set  \n",
       "4   not_set  "
      ]
     },
     "execution_count": 24,
     "metadata": {},
     "output_type": "execute_result"
    }
   ],
   "source": [
    "df.head()"
   ]
  },
  {
   "cell_type": "code",
   "execution_count": 25,
   "id": "cbdf1a69",
   "metadata": {},
   "outputs": [
    {
     "name": "stdout",
     "output_type": "stream",
     "text": [
      "[11740  5015 13952 ... 14507   426 11677]\n"
     ]
    }
   ],
   "source": [
    "df.loc[X_train,\"data_type\"]=\"train\"\n",
    "print(X_train)"
   ]
  },
  {
   "cell_type": "code",
   "execution_count": 26,
   "id": "adb514c6",
   "metadata": {},
   "outputs": [
    {
     "name": "stdout",
     "output_type": "stream",
     "text": [
      "[11488 12003  7586 ...  9410  5291  3717]\n"
     ]
    }
   ],
   "source": [
    "df.loc[X_val,\"data_type\"]=\"val\"\n",
    "print(X_val)"
   ]
  },
  {
   "cell_type": "code",
   "execution_count": 27,
   "id": "1f3a03be",
   "metadata": {},
   "outputs": [
    {
     "data": {
      "text/html": [
       "<div>\n",
       "<style scoped>\n",
       "    .dataframe tbody tr th:only-of-type {\n",
       "        vertical-align: middle;\n",
       "    }\n",
       "\n",
       "    .dataframe tbody tr th {\n",
       "        vertical-align: top;\n",
       "    }\n",
       "\n",
       "    .dataframe thead th {\n",
       "        text-align: right;\n",
       "    }\n",
       "</style>\n",
       "<table border=\"1\" class=\"dataframe\">\n",
       "  <thead>\n",
       "    <tr style=\"text-align: right;\">\n",
       "      <th></th>\n",
       "      <th></th>\n",
       "      <th>text</th>\n",
       "    </tr>\n",
       "    <tr>\n",
       "      <th>airline_sentiment</th>\n",
       "      <th>data_type</th>\n",
       "      <th></th>\n",
       "    </tr>\n",
       "  </thead>\n",
       "  <tbody>\n",
       "    <tr>\n",
       "      <th rowspan=\"2\" valign=\"top\">0</th>\n",
       "      <th>train</th>\n",
       "      <td>2479</td>\n",
       "    </tr>\n",
       "    <tr>\n",
       "      <th>val</th>\n",
       "      <td>620</td>\n",
       "    </tr>\n",
       "    <tr>\n",
       "      <th rowspan=\"2\" valign=\"top\">1</th>\n",
       "      <th>train</th>\n",
       "      <td>1890</td>\n",
       "    </tr>\n",
       "    <tr>\n",
       "      <th>val</th>\n",
       "      <td>473</td>\n",
       "    </tr>\n",
       "    <tr>\n",
       "      <th rowspan=\"2\" valign=\"top\">2</th>\n",
       "      <th>train</th>\n",
       "      <td>7343</td>\n",
       "    </tr>\n",
       "    <tr>\n",
       "      <th>val</th>\n",
       "      <td>1835</td>\n",
       "    </tr>\n",
       "  </tbody>\n",
       "</table>\n",
       "</div>"
      ],
      "text/plain": [
       "                             text\n",
       "airline_sentiment data_type      \n",
       "0                 train      2479\n",
       "                  val         620\n",
       "1                 train      1890\n",
       "                  val         473\n",
       "2                 train      7343\n",
       "                  val        1835"
      ]
     },
     "execution_count": 27,
     "metadata": {},
     "output_type": "execute_result"
    }
   ],
   "source": [
    "df.groupby([\"airline_sentiment\",\"data_type\"]).count()"
   ]
  },
  {
   "cell_type": "markdown",
   "id": "4d7639ec",
   "metadata": {},
   "source": [
    "# BERT Tokenizer setting"
   ]
  },
  {
   "cell_type": "markdown",
   "id": "2e5752ea",
   "metadata": {},
   "source": [
    "###### Both BERT-base and BERT-large models are trained on a large amount of data set and this training is done based on two processes, The first one is Masked Language Model and other is Next sentence prediction model. So by default the model expects two sequences(sentences) of inputs, In tasks like question and answering first sequence is passage and second one is question but here in our case it is a classification task and we have only one sequence as input. We need to provide an additional attention mask to tell the model that we have only one sequence of input. In case of training BERT model for sentiment analysis(Classification), the model expects two inputs: token ids and attention mask."
   ]
  },
  {
   "cell_type": "code",
   "execution_count": 28,
   "id": "1c127591",
   "metadata": {},
   "outputs": [
    {
     "name": "stderr",
     "output_type": "stream",
     "text": [
      "/usr/lib/python3/dist-packages/requests/__init__.py:89: RequestsDependencyWarning: urllib3 (1.26.16) or chardet (3.0.4) doesn't match a supported version!\n",
      "  warnings.warn(\"urllib3 ({}) or chardet ({}) doesn't match a supported \"\n"
     ]
    }
   ],
   "source": [
    "from transformers import BertTokenizer"
   ]
  },
  {
   "cell_type": "code",
   "execution_count": 29,
   "id": "29240a95",
   "metadata": {},
   "outputs": [],
   "source": [
    "tokenizer=BertTokenizer.from_pretrained(\"bert-base-uncased\")"
   ]
  },
  {
   "cell_type": "code",
   "execution_count": 30,
   "id": "213e6206",
   "metadata": {},
   "outputs": [
    {
     "data": {
      "text/plain": [
       "186"
      ]
     },
     "execution_count": 30,
     "metadata": {},
     "output_type": "execute_result"
    }
   ],
   "source": [
    "max_length=df[\"text\"].str.len().max()\n",
    "max_length"
   ]
  },
  {
   "cell_type": "markdown",
   "id": "a2b31618",
   "metadata": {},
   "source": [
    "###### 186 character not word"
   ]
  },
  {
   "cell_type": "markdown",
   "id": "e34ada51",
   "metadata": {},
   "source": [
    "# Distplot"
   ]
  },
  {
   "cell_type": "markdown",
   "id": "e033e6db",
   "metadata": {},
   "source": [
    "###### A histogram is a graphical representation of the distribution of a dataset. It consists of bars, where each bar represents an interval (or bin) along the horizontal axis, and the height of the bar represents the frequency (or count) of data points falling within that interval."
   ]
  },
  {
   "cell_type": "code",
   "execution_count": 31,
   "id": "b298b3da",
   "metadata": {},
   "outputs": [
    {
     "name": "stderr",
     "output_type": "stream",
     "text": [
      "/tmp/ipykernel_65298/311070743.py:8: UserWarning: \n",
      "\n",
      "`distplot` is a deprecated function and will be removed in seaborn v0.14.0.\n",
      "\n",
      "Please adapt your code to use either `displot` (a figure-level function with\n",
      "similar flexibility) or `histplot` (an axes-level function for histograms).\n",
      "\n",
      "For a guide to updating your code to use the new functions, please see\n",
      "https://gist.github.com/mwaskom/de44147ed2974457ad6372750bbe5751\n",
      "\n",
      "  sns.distplot(data, bins=7, kde=False, color='blue', hist_kws=dict(edgecolor=\"Black\", linewidth=1))\n"
     ]
    },
    {
     "data": {
      "image/png": "[encoded data removed]",
      "text/plain": [
       "<Figure size 640x480 with 1 Axes>"
      ]
     },
     "metadata": {},
     "output_type": "display_data"
    }
   ],
   "source": [
    "import seaborn as sns\n",
    "import matplotlib.pyplot as plt\n",
    "\n",
    "# Assuming 'data' is your dataset\n",
    "data = [1, 2, 2, 3, 3, 3, 4, 4, 5, 5, 5, 5, 6, 6, 7]\n",
    "\n",
    "# Creating a histogram using seaborn\n",
    "sns.distplot(data, bins=7, kde=False, color='blue', hist_kws=dict(edgecolor=\"Black\", linewidth=1))\n",
    "# Adding labels and title\n",
    "plt.xlabel('Values')\n",
    "plt.ylabel('Frequency')\n",
    "plt.title('Histogram of Data')\n",
    "\n",
    "# Display the plot\n",
    "plt.show()\n"
   ]
  },
  {
   "cell_type": "markdown",
   "id": "4efb92cb",
   "metadata": {},
   "source": [
    "# Distribution plot for Max Length"
   ]
  },
  {
   "cell_type": "code",
   "execution_count": 32,
   "id": "44d0b5b2",
   "metadata": {},
   "outputs": [],
   "source": [
    "Max_Len=np.array([len(x.split()) for x in df.text])"
   ]
  },
  {
   "cell_type": "code",
   "execution_count": 33,
   "id": "1eb19632",
   "metadata": {},
   "outputs": [
    {
     "data": {
      "text/plain": [
       "array([ 4,  9, 12, ...,  7, 23, 30])"
      ]
     },
     "execution_count": 33,
     "metadata": {},
     "output_type": "execute_result"
    }
   ],
   "source": [
    "Max_Len"
   ]
  },
  {
   "cell_type": "markdown",
   "id": "ff99d87f",
   "metadata": {},
   "source": [
    "###### Calculated Words"
   ]
  },
  {
   "cell_type": "code",
   "execution_count": 34,
   "id": "59ba3ec4",
   "metadata": {},
   "outputs": [
    {
     "name": "stderr",
     "output_type": "stream",
     "text": [
      "/tmp/ipykernel_65298/595336695.py:1: UserWarning: \n",
      "\n",
      "`distplot` is a deprecated function and will be removed in seaborn v0.14.0.\n",
      "\n",
      "Please adapt your code to use either `displot` (a figure-level function with\n",
      "similar flexibility) or `histplot` (an axes-level function for histograms).\n",
      "\n",
      "For a guide to updating your code to use the new functions, please see\n",
      "https://gist.github.com/mwaskom/de44147ed2974457ad6372750bbe5751\n",
      "\n",
      "  sns.distplot(Max_Len)\n"
     ]
    },
    {
     "data": {
      "image/png": "[encoded data removed]",
      "text/plain": [
       "<Figure size 640x480 with 1 Axes>"
      ]
     },
     "metadata": {},
     "output_type": "display_data"
    }
   ],
   "source": [
    "sns.distplot(Max_Len)\n",
    "plt.title(\"Distribution of length of text\")\n",
    "plt.xlabel(\"Dataframe Length\")\n",
    "plt.show()"
   ]
  },
  {
   "cell_type": "code",
   "execution_count": 35,
   "id": "2701bbfa",
   "metadata": {},
   "outputs": [
    {
     "name": "stderr",
     "output_type": "stream",
     "text": [
      "/home/joy/.local/lib/python3.8/site-packages/transformers/tokenization_utils_base.py:2364: FutureWarning: The `pad_to_max_length` argument is deprecated and will be removed in a future version, use `padding=True` or `padding='longest'` to pad to the longest sequence in the batch, or use `padding='max_length'` to pad to a max length. In this case, you can give a specific length with `max_length` (e.g. `max_length=45`) or leave max_length to None to pad to the maximal input size of the model (e.g. 512 for Bert).\n",
      "  warnings.warn(\n"
     ]
    }
   ],
   "source": [
    "encoded_train_text=tokenizer.batch_encode_plus(df[df[\"data_type\"]==\"train\"].text.values,\n",
    "                                        max_length=32,\n",
    "                                        pad_to_max_length=True,\n",
    "                                        add_special_tokens=True,\n",
    "                                        truncation=True,\n",
    "                                        return_attention_mask=True,\n",
    "                                        return_token_type_ids=True,\n",
    "                                        return_tensors=\"pt\")"
   ]
  },
  {
   "cell_type": "code",
   "execution_count": 36,
   "id": "5c27f797",
   "metadata": {},
   "outputs": [
    {
     "data": {
      "text/plain": [
       "'\\nHugging face library provides another function called tokenizer.encode_plus() \\nwhich we will use to perform almost entire preprocessing steps in one go. It\\n\\n    ->converts reviews into tokens\\n    ->adds [CLS] token at the beginning of input\\n    ->performs padding if sequence length is less than max_len\\n    ->performs truncation if sequence length is greater than max_len\\n    ->adds [SEP] token at the end of sequence.\\n'"
      ]
     },
     "execution_count": 36,
     "metadata": {},
     "output_type": "execute_result"
    }
   ],
   "source": [
    "\"\"\"\n",
    "Hugging face library provides another function called tokenizer.encode_plus() \n",
    "which we will use to perform almost entire preprocessing steps in one go. It\n",
    "\n",
    "    ->converts reviews into tokens\n",
    "    ->adds [CLS] token at the beginning of input\n",
    "    ->performs padding if sequence length is less than max_len\n",
    "    ->performs truncation if sequence length is greater than max_len\n",
    "    ->adds [SEP] token at the end of sequence.\n",
    "\"\"\""
   ]
  },
  {
   "cell_type": "code",
   "execution_count": 37,
   "id": "70e59c3f",
   "metadata": {},
   "outputs": [],
   "source": [
    "import torch"
   ]
  },
  {
   "cell_type": "code",
   "execution_count": 38,
   "id": "41b951fc",
   "metadata": {},
   "outputs": [
    {
     "name": "stderr",
     "output_type": "stream",
     "text": [
      "/tmp/ipykernel_65298/350309463.py:1: UserWarning: To copy construct from a tensor, it is recommended to use sourceTensor.clone().detach() or sourceTensor.clone().detach().requires_grad_(True), rather than torch.tensor(sourceTensor).\n",
      "  train_input_ids=torch.tensor(encoded_train_text[\"input_ids\"])\n",
      "/tmp/ipykernel_65298/350309463.py:2: UserWarning: To copy construct from a tensor, it is recommended to use sourceTensor.clone().detach() or sourceTensor.clone().detach().requires_grad_(True), rather than torch.tensor(sourceTensor).\n",
      "  train_attention_mask=torch.tensor(encoded_train_text[\"attention_mask\"])\n"
     ]
    }
   ],
   "source": [
    "train_input_ids=torch.tensor(encoded_train_text[\"input_ids\"])\n",
    "train_attention_mask=torch.tensor(encoded_train_text[\"attention_mask\"])\n",
    "train_labels=torch.tensor(df[df[\"data_type\"]==\"train\"].airline_sentiment.values)"
   ]
  },
  {
   "cell_type": "markdown",
   "id": "bf235cb0",
   "metadata": {},
   "source": [
    "###### token ids :\n",
    "###### it is an integer that represents a particular token.\n",
    "\n",
    "###### attention mask :\n",
    "###### it is a sequence of ones and zeroes to tell the model which token comes from input sentence (segment id =1) and which are just padding token(segment id =0)."
   ]
  },
  {
   "cell_type": "markdown",
   "id": "61dd2a02",
   "metadata": {},
   "source": [
    "###### Padding ensures that all sequences have the same length, and the attention mask helps the model focus only on the actual tokens."
   ]
  },
  {
   "cell_type": "code",
   "execution_count": 39,
   "id": "a6792180",
   "metadata": {},
   "outputs": [
    {
     "name": "stdout",
     "output_type": "stream",
     "text": [
      "torch.Size([11712, 32])\n",
      "torch.Size([11712, 32])\n",
      "torch.Size([11712])\n"
     ]
    }
   ],
   "source": [
    "print(train_input_ids.shape)\n",
    "print(train_attention_mask.shape)\n",
    "print(train_labels.shape)"
   ]
  },
  {
   "cell_type": "code",
   "execution_count": 40,
   "id": "77efc6db",
   "metadata": {},
   "outputs": [
    {
     "name": "stderr",
     "output_type": "stream",
     "text": [
      "Truncation was not explicitly activated but `max_length` is provided a specific value, please use `truncation=True` to explicitly truncate examples to max length. Defaulting to 'longest_first' truncation strategy. If you encode pairs of sequences (GLUE-style) with the tokenizer you can select this strategy more precisely by providing a specific strategy to `truncation`.\n",
      "/home/joy/.local/lib/python3.8/site-packages/transformers/tokenization_utils_base.py:2364: FutureWarning: The `pad_to_max_length` argument is deprecated and will be removed in a future version, use `padding=True` or `padding='longest'` to pad to the longest sequence in the batch, or use `padding='max_length'` to pad to a max length. In this case, you can give a specific length with `max_length` (e.g. `max_length=45`) or leave max_length to None to pad to the maximal input size of the model (e.g. 512 for Bert).\n",
      "  warnings.warn(\n"
     ]
    }
   ],
   "source": [
    "encoded_val_text=tokenizer.batch_encode_plus(df[df[\"data_type\"]==\"val\"].text.values,\n",
    "                                            max_length=32,\n",
    "                                            pad_to_max_length=True,\n",
    "                                            return_attention_mask=True,\n",
    "                                            add_special_tokens=True,\n",
    "                                            return_token_type_ids=True,\n",
    "                                            return_tensors=\"pt\")"
   ]
  },
  {
   "cell_type": "code",
   "execution_count": 41,
   "id": "7ee0a825",
   "metadata": {},
   "outputs": [
    {
     "data": {
      "text/plain": [
       "{'input_ids': tensor([[  101,  1030,  6261,  ...,     0,     0,     0],\n",
       "        [  101,  1030,  6261,  ..., 17603,  2480,   102],\n",
       "        [  101,  1030,  6261,  ...,     0,     0,     0],\n",
       "        ...,\n",
       "        [  101,  4067,  2017,  ...,   102,     0,     0],\n",
       "        [  101,  1030, 25988,  ...,  1012,   102,     0],\n",
       "        [  101,  1030, 25988,  ...,     0,     0,     0]]), 'token_type_ids': tensor([[0, 0, 0,  ..., 0, 0, 0],\n",
       "        [0, 0, 0,  ..., 0, 0, 0],\n",
       "        [0, 0, 0,  ..., 0, 0, 0],\n",
       "        ...,\n",
       "        [0, 0, 0,  ..., 0, 0, 0],\n",
       "        [0, 0, 0,  ..., 0, 0, 0],\n",
       "        [0, 0, 0,  ..., 0, 0, 0]]), 'attention_mask': tensor([[1, 1, 1,  ..., 0, 0, 0],\n",
       "        [1, 1, 1,  ..., 1, 1, 1],\n",
       "        [1, 1, 1,  ..., 0, 0, 0],\n",
       "        ...,\n",
       "        [1, 1, 1,  ..., 1, 0, 0],\n",
       "        [1, 1, 1,  ..., 1, 1, 0],\n",
       "        [1, 1, 1,  ..., 0, 0, 0]])}"
      ]
     },
     "execution_count": 41,
     "metadata": {},
     "output_type": "execute_result"
    }
   ],
   "source": [
    "encoded_val_text"
   ]
  },
  {
   "cell_type": "code",
   "execution_count": 42,
   "id": "c5f77410",
   "metadata": {},
   "outputs": [
    {
     "name": "stderr",
     "output_type": "stream",
     "text": [
      "/tmp/ipykernel_65298/1941009371.py:1: UserWarning: To copy construct from a tensor, it is recommended to use sourceTensor.clone().detach() or sourceTensor.clone().detach().requires_grad_(True), rather than torch.tensor(sourceTensor).\n",
      "  val_input_ids=torch.tensor(encoded_val_text[\"input_ids\"])\n",
      "/tmp/ipykernel_65298/1941009371.py:2: UserWarning: To copy construct from a tensor, it is recommended to use sourceTensor.clone().detach() or sourceTensor.clone().detach().requires_grad_(True), rather than torch.tensor(sourceTensor).\n",
      "  val_attention_mask=torch.tensor(encoded_val_text[\"attention_mask\"])\n"
     ]
    }
   ],
   "source": [
    "val_input_ids=torch.tensor(encoded_val_text[\"input_ids\"])\n",
    "val_attention_mask=torch.tensor(encoded_val_text[\"attention_mask\"])\n",
    "val_labels=torch.tensor(df[df[\"data_type\"]==\"val\"].airline_sentiment.values)"
   ]
  },
  {
   "cell_type": "code",
   "execution_count": 43,
   "id": "fa2e2edb",
   "metadata": {},
   "outputs": [
    {
     "data": {
      "text/plain": [
       "tensor([[  101,  1030,  6261,  ...,     0,     0,     0],\n",
       "        [  101,  1030,  6261,  ..., 17603,  2480,   102],\n",
       "        [  101,  1030,  6261,  ...,     0,     0,     0],\n",
       "        ...,\n",
       "        [  101,  4067,  2017,  ...,   102,     0,     0],\n",
       "        [  101,  1030, 25988,  ...,  1012,   102,     0],\n",
       "        [  101,  1030, 25988,  ...,     0,     0,     0]])"
      ]
     },
     "execution_count": 43,
     "metadata": {},
     "output_type": "execute_result"
    }
   ],
   "source": [
    "val_input_ids"
   ]
  },
  {
   "cell_type": "markdown",
   "id": "112e3593",
   "metadata": {},
   "source": [
    "###### Above in input ids we can see that it starts with 101 which corresponds to [CLS] token and ends with 102 corresponds to [SEP] token and since our sequence length is less than max_len(128) the input_id is padded with zeros upto length = 128."
   ]
  },
  {
   "cell_type": "code",
   "execution_count": 44,
   "id": "f651cd1c",
   "metadata": {},
   "outputs": [
    {
     "data": {
      "text/plain": [
       "tensor([[1, 1, 1,  ..., 0, 0, 0],\n",
       "        [1, 1, 1,  ..., 1, 1, 1],\n",
       "        [1, 1, 1,  ..., 0, 0, 0],\n",
       "        ...,\n",
       "        [1, 1, 1,  ..., 1, 0, 0],\n",
       "        [1, 1, 1,  ..., 1, 1, 0],\n",
       "        [1, 1, 1,  ..., 0, 0, 0]])"
      ]
     },
     "execution_count": 44,
     "metadata": {},
     "output_type": "execute_result"
    }
   ],
   "source": [
    "val_attention_mask"
   ]
  },
  {
   "cell_type": "markdown",
   "id": "b100e5e0",
   "metadata": {},
   "source": [
    "###### in the attention mask we can see all the tokens coming from reviews are assigned with id 1 and padding token assigned with id 0."
   ]
  },
  {
   "cell_type": "code",
   "execution_count": 45,
   "id": "357f8ddb",
   "metadata": {},
   "outputs": [
    {
     "name": "stdout",
     "output_type": "stream",
     "text": [
      "torch.Size([2928, 32])\n",
      "torch.Size([2928, 32])\n",
      "torch.Size([2928])\n"
     ]
    }
   ],
   "source": [
    "print(val_input_ids.shape)\n",
    "print(val_attention_mask.shape)\n",
    "print(val_labels.shape)"
   ]
  },
  {
   "cell_type": "code",
   "execution_count": 46,
   "id": "d464df89",
   "metadata": {},
   "outputs": [],
   "source": [
    "from torch.utils.data import TensorDataset"
   ]
  },
  {
   "cell_type": "code",
   "execution_count": 47,
   "id": "9ea23f7b",
   "metadata": {},
   "outputs": [],
   "source": [
    "Train_dataset=TensorDataset(train_input_ids,\n",
    "                           train_attention_mask,\n",
    "                           train_labels)\n",
    "\n",
    "Val_dataset=TensorDataset(val_input_ids,\n",
    "                         val_attention_mask,\n",
    "                         val_labels)"
   ]
  },
  {
   "cell_type": "code",
   "execution_count": 48,
   "id": "d9485c22",
   "metadata": {},
   "outputs": [
    {
     "name": "stdout",
     "output_type": "stream",
     "text": [
      "11712\n",
      "2928\n"
     ]
    }
   ],
   "source": [
    "print(len(Train_dataset))\n",
    "print(len(Val_dataset))"
   ]
  },
  {
   "cell_type": "code",
   "execution_count": 49,
   "id": "fac0961d",
   "metadata": {},
   "outputs": [],
   "source": [
    "from torch.utils.data import DataLoader,RandomSampler"
   ]
  },
  {
   "cell_type": "code",
   "execution_count": 50,
   "id": "a48312e8",
   "metadata": {},
   "outputs": [],
   "source": [
    "train_dataloader=DataLoader(Train_dataset,\n",
    "                           batch_size=64,\n",
    "                           sampler=RandomSampler(Train_dataset))"
   ]
  },
  {
   "cell_type": "code",
   "execution_count": 51,
   "id": "bd827cc3",
   "metadata": {},
   "outputs": [
    {
     "data": {
      "text/plain": [
       "(tensor([  101,  1030,  6261, 14074, 14735,  4283,   999,   102,     0,     0,\n",
       "             0,     0,     0,     0,     0,     0,     0,     0,     0,     0,\n",
       "             0,     0,     0,     0,     0,     0,     0,     0,     0,     0,\n",
       "             0,     0]),\n",
       " tensor([1, 1, 1, 1, 1, 1, 1, 1, 0, 0, 0, 0, 0, 0, 0, 0, 0, 0, 0, 0, 0, 0, 0, 0,\n",
       "         0, 0, 0, 0, 0, 0, 0, 0]),\n",
       " tensor(1))"
      ]
     },
     "execution_count": 51,
     "metadata": {},
     "output_type": "execute_result"
    }
   ],
   "source": [
    "Train_dataset[10]"
   ]
  },
  {
   "cell_type": "code",
   "execution_count": 52,
   "id": "4083fa1a",
   "metadata": {},
   "outputs": [],
   "source": [
    "val_dataloader=DataLoader(Val_dataset,\n",
    "                       batch_size=64,\n",
    "                       sampler=RandomSampler(Val_dataset))"
   ]
  },
  {
   "cell_type": "markdown",
   "id": "799b2788",
   "metadata": {},
   "source": [
    "##### When we set batch_size to 64, the data loader will take the first 64 rows of your dataset for the first pass, then move on to the next 64 rows for the second pass, and so on."
   ]
  },
  {
   "cell_type": "code",
   "execution_count": 53,
   "id": "893f2342",
   "metadata": {},
   "outputs": [
    {
     "name": "stdout",
     "output_type": "stream",
     "text": [
      "Help on class DataLoader in module torch.utils.data.dataloader:\n",
      "\n",
      "class DataLoader(typing.Generic)\n",
      " |  DataLoader(*args, **kwds)\n",
      " |  \n",
      " |  Data loader. Combines a dataset and a sampler, and provides an iterable over\n",
      " |  the given dataset.\n",
      " |  \n",
      " |  The :class:`~torch.utils.data.DataLoader` supports both map-style and\n",
      " |  iterable-style datasets with single- or multi-process loading, customizing\n",
      " |  loading order and optional automatic batching (collation) and memory pinning.\n",
      " |  \n",
      " |  See :py:mod:`torch.utils.data` documentation page for more details.\n",
      " |  \n",
      " |  Args:\n",
      " |      dataset (Dataset): dataset from which to load the data.\n",
      " |      batch_size (int, optional): how many samples per batch to load\n",
      " |          (default: ``1``).\n",
      " |      shuffle (bool, optional): set to ``True`` to have the data reshuffled\n",
      " |          at every epoch (default: ``False``).\n",
      " |      sampler (Sampler or Iterable, optional): defines the strategy to draw\n",
      " |          samples from the dataset. Can be any ``Iterable`` with ``__len__``\n",
      " |          implemented. If specified, :attr:`shuffle` must not be specified.\n",
      " |      batch_sampler (Sampler or Iterable, optional): like :attr:`sampler`, but\n",
      " |          returns a batch of indices at a time. Mutually exclusive with\n",
      " |          :attr:`batch_size`, :attr:`shuffle`, :attr:`sampler`,\n",
      " |          and :attr:`drop_last`.\n",
      " |      num_workers (int, optional): how many subprocesses to use for data\n",
      " |          loading. ``0`` means that the data will be loaded in the main process.\n",
      " |          (default: ``0``)\n",
      " |      collate_fn (callable, optional): merges a list of samples to form a\n",
      " |          mini-batch of Tensor(s).  Used when using batched loading from a\n",
      " |          map-style dataset.\n",
      " |      pin_memory (bool, optional): If ``True``, the data loader will copy Tensors\n",
      " |          into CUDA pinned memory before returning them.  If your data elements\n",
      " |          are a custom type, or your :attr:`collate_fn` returns a batch that is a custom type,\n",
      " |          see the example below.\n",
      " |      drop_last (bool, optional): set to ``True`` to drop the last incomplete batch,\n",
      " |          if the dataset size is not divisible by the batch size. If ``False`` and\n",
      " |          the size of dataset is not divisible by the batch size, then the last batch\n",
      " |          will be smaller. (default: ``False``)\n",
      " |      timeout (numeric, optional): if positive, the timeout value for collecting a batch\n",
      " |          from workers. Should always be non-negative. (default: ``0``)\n",
      " |      worker_init_fn (callable, optional): If not ``None``, this will be called on each\n",
      " |          worker subprocess with the worker id (an int in ``[0, num_workers - 1]``) as\n",
      " |          input, after seeding and before data loading. (default: ``None``)\n",
      " |      generator (torch.Generator, optional): If not ``None``, this RNG will be used\n",
      " |          by RandomSampler to generate random indexes and multiprocessing to generate\n",
      " |          `base_seed` for workers. (default: ``None``)\n",
      " |      prefetch_factor (int, optional, keyword-only arg): Number of samples loaded\n",
      " |          in advance by each worker. ``2`` means there will be a total of\n",
      " |          2 * num_workers samples prefetched across all workers. (default: ``2``)\n",
      " |      persistent_workers (bool, optional): If ``True``, the data loader will not shutdown\n",
      " |          the worker processes after a dataset has been consumed once. This allows to\n",
      " |          maintain the workers `Dataset` instances alive. (default: ``False``)\n",
      " |  \n",
      " |  \n",
      " |  .. warning:: If the ``spawn`` start method is used, :attr:`worker_init_fn`\n",
      " |               cannot be an unpicklable object, e.g., a lambda function. See\n",
      " |               :ref:`multiprocessing-best-practices` on more details related\n",
      " |               to multiprocessing in PyTorch.\n",
      " |  \n",
      " |  .. warning:: ``len(dataloader)`` heuristic is based on the length of the sampler used.\n",
      " |               When :attr:`dataset` is an :class:`~torch.utils.data.IterableDataset`,\n",
      " |               it instead returns an estimate based on ``len(dataset) / batch_size``, with proper\n",
      " |               rounding depending on :attr:`drop_last`, regardless of multi-process loading\n",
      " |               configurations. This represents the best guess PyTorch can make because PyTorch\n",
      " |               trusts user :attr:`dataset` code in correctly handling multi-process\n",
      " |               loading to avoid duplicate data.\n",
      " |  \n",
      " |               However, if sharding results in multiple workers having incomplete last batches,\n",
      " |               this estimate can still be inaccurate, because (1) an otherwise complete batch can\n",
      " |               be broken into multiple ones and (2) more than one batch worth of samples can be\n",
      " |               dropped when :attr:`drop_last` is set. Unfortunately, PyTorch can not detect such\n",
      " |               cases in general.\n",
      " |  \n",
      " |               See `Dataset Types`_ for more details on these two types of datasets and how\n",
      " |               :class:`~torch.utils.data.IterableDataset` interacts with\n",
      " |               `Multi-process data loading`_.\n",
      " |  \n",
      " |  .. warning:: See :ref:`reproducibility`, and :ref:`dataloader-workers-random-seed`, and\n",
      " |               :ref:`data-loading-randomness` notes for random seed related questions.\n",
      " |  \n",
      " |  Method resolution order:\n",
      " |      DataLoader\n",
      " |      typing.Generic\n",
      " |      builtins.object\n",
      " |  \n",
      " |  Methods defined here:\n",
      " |  \n",
      " |  __init__(self, dataset: torch.utils.data.dataset.Dataset[+T_co], batch_size: Union[int, NoneType] = 1, shuffle: bool = False, sampler: Union[torch.utils.data.sampler.Sampler, Iterable, NoneType] = None, batch_sampler: Union[torch.utils.data.sampler.Sampler[Sequence], Iterable[Sequence], NoneType] = None, num_workers: int = 0, collate_fn: Union[Callable[[List[~T]], Any], NoneType] = None, pin_memory: bool = False, drop_last: bool = False, timeout: float = 0, worker_init_fn: Union[Callable[[int], NoneType], NoneType] = None, multiprocessing_context=None, generator=None, *, prefetch_factor: int = 2, persistent_workers: bool = False)\n",
      " |      Initialize self.  See help(type(self)) for accurate signature.\n",
      " |  \n",
      " |  __iter__(self) -> '_BaseDataLoaderIter'\n",
      " |      # We quote '_BaseDataLoaderIter' since it isn't defined yet and the definition can't be moved up\n",
      " |      # since '_BaseDataLoaderIter' references 'DataLoader'.\n",
      " |  \n",
      " |  __len__(self) -> int\n",
      " |  \n",
      " |  __setattr__(self, attr, val)\n",
      " |      Implement setattr(self, name, value).\n",
      " |  \n",
      " |  check_worker_number_rationality(self)\n",
      " |  \n",
      " |  ----------------------------------------------------------------------\n",
      " |  Data descriptors defined here:\n",
      " |  \n",
      " |  __dict__\n",
      " |      dictionary for instance variables (if defined)\n",
      " |  \n",
      " |  __weakref__\n",
      " |      list of weak references to the object (if defined)\n",
      " |  \n",
      " |  multiprocessing_context\n",
      " |  \n",
      " |  ----------------------------------------------------------------------\n",
      " |  Data and other attributes defined here:\n",
      " |  \n",
      " |  __annotations__ = {'_iterator': typing.Union[ForwardRef('_BaseDataLoad...\n",
      " |  \n",
      " |  __orig_bases__ = (typing.Generic[+T_co],)\n",
      " |  \n",
      " |  __parameters__ = (+T_co,)\n",
      " |  \n",
      " |  ----------------------------------------------------------------------\n",
      " |  Class methods inherited from typing.Generic:\n",
      " |  \n",
      " |  __class_getitem__(params) from builtins.type\n",
      " |  \n",
      " |  __init_subclass__(*args, **kwargs) from builtins.type\n",
      " |      This method is called when a class is subclassed.\n",
      " |      \n",
      " |      The default implementation does nothing. It may be\n",
      " |      overridden to extend subclasses.\n",
      " |  \n",
      " |  ----------------------------------------------------------------------\n",
      " |  Static methods inherited from typing.Generic:\n",
      " |  \n",
      " |  __new__(cls, *args, **kwds)\n",
      " |      Create and return a new object.  See help(type) for accurate signature.\n",
      "\n"
     ]
    }
   ],
   "source": [
    "help(DataLoader)"
   ]
  },
  {
   "cell_type": "code",
   "execution_count": 54,
   "id": "56bfbe62",
   "metadata": {},
   "outputs": [],
   "source": [
    "from transformers import BertForSequenceClassification"
   ]
  },
  {
   "cell_type": "code",
   "execution_count": 55,
   "id": "2d7f8f39",
   "metadata": {},
   "outputs": [
    {
     "name": "stderr",
     "output_type": "stream",
     "text": [
      "Some weights of the model checkpoint at bert-base-uncased were not used when initializing BertForSequenceClassification: ['cls.predictions.bias', 'cls.seq_relationship.weight', 'cls.predictions.decoder.weight', 'cls.predictions.transform.LayerNorm.weight', 'cls.seq_relationship.bias', 'cls.predictions.transform.LayerNorm.bias', 'cls.predictions.transform.dense.bias', 'cls.predictions.transform.dense.weight']\n",
      "- This IS expected if you are initializing BertForSequenceClassification from the checkpoint of a model trained on another task or with another architecture (e.g. initializing a BertForSequenceClassification model from a BertForPreTraining model).\n",
      "- This IS NOT expected if you are initializing BertForSequenceClassification from the checkpoint of a model that you expect to be exactly identical (initializing a BertForSequenceClassification model from a BertForSequenceClassification model).\n",
      "Some weights of BertForSequenceClassification were not initialized from the model checkpoint at bert-base-uncased and are newly initialized: ['classifier.bias', 'classifier.weight']\n",
      "You should probably TRAIN this model on a down-stream task to be able to use it for predictions and inference.\n"
     ]
    }
   ],
   "source": [
    "pretrained_model_name=BertForSequenceClassification.from_pretrained(\"bert-base-uncased\")"
   ]
  },
  {
   "cell_type": "markdown",
   "id": "73250ae8",
   "metadata": {},
   "source": [
    "# Customized model creation"
   ]
  },
  {
   "cell_type": "code",
   "execution_count": 56,
   "id": "a3431970",
   "metadata": {},
   "outputs": [],
   "source": [
    "import torch.nn as nn"
   ]
  },
  {
   "cell_type": "code",
   "execution_count": null,
   "id": "bcbd9717",
   "metadata": {},
   "outputs": [],
   "source": [
    "\"\"\"\n",
    "    Tokenization:\n",
    "        Tokenizing this sentence might result in individual tokens: \n",
    "        [\"I\", \"love\", \"natural\", \"language\", \"processing\", \".\"].\n",
    "\n",
    "    BERT Embeddings:\n",
    "        BERT will process each of these tokens and generate a vector representation for each \n",
    "        token.If the hidden size or embedding size of the BERT model is 768, then each token \n",
    "        will be represented by a vector of 768 numbers.\n",
    "\n",
    "    For example, let's consider the token \"love\":\n",
    "        The BERT model might represent \"love\" as a vector: [0.123, -0.456, 0.789, ..., 0.321], where the vector has 768 elements.\n",
    "\n",
    "    Input Size:\n",
    "        In the context of your model, when you define input_size = 768, it means that you are telling your additional layers (like the fully connected layers fc1 and fc2) to expect input vectors of size 768.\n",
    "        The output from the BERT model (768-dimensional vectors for each token) is then used as input to your additional layers.\n",
    "\"\"\""
   ]
  },
  {
   "cell_type": "code",
   "execution_count": 57,
   "id": "5e053f08",
   "metadata": {},
   "outputs": [],
   "source": [
    "class sentiment_analysis_model(nn.Module):\n",
    "    def __init__(self,pretrained_model_name,input_size,hidden_size,output_size):\n",
    "        super(sentiment_analysis_model,self).__init__()\n",
    "        #BERT model first layer\n",
    "        self.bert_model= BertForSequenceClassification.from_pretrained(pretrained_model_name)\n",
    "        \n",
    "        #Additional Layers\n",
    "        self.dropout=nn.Dropout(0.1)\n",
    "        self.fc1=nn.Linear(input_size,hidden_size)\n",
    "        self.relu=nn.ReLU()\n",
    "        self.fc2=nn.Linear(hidden_size,output_size)\n",
    "        self.softmax=nn.Softmax(dim=1)\n",
    "        \n",
    "    def forward(self,input_ids,attention_mask):\n",
    "        #BERT forward pass\n",
    "        outputs=self.bert_model(input_ids,attention_mask)\n",
    "        \n",
    "        #extract logits from bert output\n",
    "        bert_logits=outputs.logits\n",
    "        \n",
    "        #Additional layers\n",
    "        x=self.dropout(bert_logits)\n",
    "        x=self.fc1(x)\n",
    "        x=self.relu(x)\n",
    "        x=self.fc2(x)\n",
    "        x=self.softmax(x)\n",
    "        \n",
    "        return x"
   ]
  },
  {
   "cell_type": "markdown",
   "id": "69d0f0f5",
   "metadata": {},
   "source": [
    "###### input_size is the number of features (or values) coming out from the BERT model.\n",
    "###### hidden_size is the number of features you want your model to learn in its first custom layer.\n",
    "\n",
    "###### Imagine you have a BERT model that, for each input sentence, gives you 768 numbers as output. In this case, input_size would be 768.\n",
    "\n",
    "###### Now, you decide that in your custom model, you want to simplify this to only 64 features. So, you create a custom layer (self.fc1) that takes the 768 features from BERT and transforms them into 64 features."
   ]
  },
  {
   "cell_type": "code",
   "execution_count": 60,
   "id": "e2a1647e",
   "metadata": {},
   "outputs": [],
   "source": [
    "hidden_size = pretrained_model_name.config.hidden_size"
   ]
  },
  {
   "cell_type": "code",
   "execution_count": 61,
   "id": "c1b2fd7e",
   "metadata": {},
   "outputs": [
    {
     "data": {
      "text/plain": [
       "768"
      ]
     },
     "execution_count": 61,
     "metadata": {},
     "output_type": "execute_result"
    }
   ],
   "source": [
    "hidden_size"
   ]
  },
  {
   "cell_type": "code",
   "execution_count": 59,
   "id": "a97bf088",
   "metadata": {},
   "outputs": [],
   "source": [
    "input_size=hidden_size\n",
    "hidden_size=64\n",
    "output_size=3"
   ]
  },
  {
   "cell_type": "code",
   "execution_count": 60,
   "id": "ff2ef04e",
   "metadata": {},
   "outputs": [
    {
     "name": "stderr",
     "output_type": "stream",
     "text": [
      "Some weights of the model checkpoint at bert-base-uncased were not used when initializing BertForSequenceClassification: ['cls.predictions.bias', 'cls.predictions.transform.dense.bias', 'cls.predictions.transform.LayerNorm.bias', 'cls.predictions.transform.LayerNorm.weight', 'cls.predictions.transform.dense.weight', 'cls.seq_relationship.weight', 'cls.seq_relationship.bias', 'cls.predictions.decoder.weight']\n",
      "- This IS expected if you are initializing BertForSequenceClassification from the checkpoint of a model trained on another task or with another architecture (e.g. initializing a BertForSequenceClassification model from a BertForPreTraining model).\n",
      "- This IS NOT expected if you are initializing BertForSequenceClassification from the checkpoint of a model that you expect to be exactly identical (initializing a BertForSequenceClassification model from a BertForSequenceClassification model).\n",
      "Some weights of BertForSequenceClassification were not initialized from the model checkpoint at bert-base-uncased and are newly initialized: ['classifier.weight', 'classifier.bias']\n",
      "You should probably TRAIN this model on a down-stream task to be able to use it for predictions and inference.\n"
     ]
    }
   ],
   "source": [
    "Model=sentiment_analysis_model(pretrained_model_name=\"bert-base-uncased\",\n",
    "                               input_size=input_size,\n",
    "                               hidden_size=hidden_size,\n",
    "                               output_size=output_size)"
   ]
  },
  {
   "cell_type": "code",
   "execution_count": 61,
   "id": "89abc96b",
   "metadata": {},
   "outputs": [],
   "source": [
    "#loss function\n",
    "criterion=nn.CrossEntropyLoss()"
   ]
  },
  {
   "cell_type": "code",
   "execution_count": 62,
   "id": "17064708",
   "metadata": {},
   "outputs": [
    {
     "name": "stderr",
     "output_type": "stream",
     "text": [
      "2024-01-30 05:34:01.861647: I tensorflow/tsl/cuda/cudart_stub.cc:28] Could not find cuda drivers on your machine, GPU will not be used.\n",
      "2024-01-30 05:34:02.344534: I tensorflow/tsl/cuda/cudart_stub.cc:28] Could not find cuda drivers on your machine, GPU will not be used.\n",
      "2024-01-30 05:34:02.347626: I tensorflow/core/platform/cpu_feature_guard.cc:182] This TensorFlow binary is optimized to use available CPU instructions in performance-critical operations.\n",
      "To enable the following instructions: AVX2 FMA, in other operations, rebuild TensorFlow with the appropriate compiler flags.\n",
      "2024-01-30 05:34:03.598372: W tensorflow/compiler/tf2tensorrt/utils/py_utils.cc:38] TF-TRT Warning: Could not find TensorRT\n"
     ]
    }
   ],
   "source": [
    "#optimizer\n",
    "from transformers import AdamW"
   ]
  },
  {
   "cell_type": "code",
   "execution_count": 63,
   "id": "559de70d",
   "metadata": {},
   "outputs": [
    {
     "name": "stderr",
     "output_type": "stream",
     "text": [
      "/home/joy/.local/lib/python3.8/site-packages/transformers/optimization.py:407: FutureWarning: This implementation of AdamW is deprecated and will be removed in a future version. Use the PyTorch implementation torch.optim.AdamW instead, or set `no_deprecation_warning=True` to disable this warning\n",
      "  warnings.warn(\n"
     ]
    }
   ],
   "source": [
    "optimizer=AdamW(Model.parameters(),\n",
    "               lr=1e-6,\n",
    "               eps=1e-5)"
   ]
  },
  {
   "cell_type": "markdown",
   "id": "c1539efb",
   "metadata": {},
   "source": [
    "# Training Loop"
   ]
  },
  {
   "cell_type": "code",
   "execution_count": null,
   "id": "967fe4f4",
   "metadata": {
    "scrolled": true
   },
   "outputs": [],
   "source": [
    "epochs=10\n",
    "for epoch in range(epochs):\n",
    "    Model.train()\n",
    "    for inputs,attention_mask,labels in train_dataloader:\n",
    "        optimizer.zero_grad()\n",
    "        outputs=Model(inputs,attention_mask)\n",
    "        loss=criterion(outputs,labels)\n",
    "        loss.backward()\n",
    "        optimizer.step() \n",
    "    \n",
    "\n",
    "    Model.eval()\n",
    "    with torch.no_grad():\n",
    "        val_loss=0.0\n",
    "        correct=0\n",
    "        total=0\n",
    "        \n",
    "        for val_inputs,val_labels in val_dataloader:\n",
    "            val_outputs=Model(val_inputs)\n",
    "            val_losses=criterion(val_outputs,val_labels)\n",
    "            val_loss+=val_loss.item()\n",
    "            \n",
    "        print(f'Epoch {epoch+1}/{epochs}, Loss: {loss.item()}, Val Loss: {val_loss.item()}')"
   ]
  },
  {
   "cell_type": "code",
   "execution_count": 3,
   "id": "d8c8fc48",
   "metadata": {},
   "outputs": [],
   "source": [
    "def func(name,age):\n",
    "    person=name+\" \"+age\n",
    "    return person"
   ]
  },
  {
   "cell_type": "code",
   "execution_count": 4,
   "id": "6fa7f253",
   "metadata": {},
   "outputs": [],
   "source": [
    "obj=func(\"Joy\",\"28\")"
   ]
  },
  {
   "cell_type": "code",
   "execution_count": 5,
   "id": "ad1ace46",
   "metadata": {},
   "outputs": [
    {
     "name": "stdout",
     "output_type": "stream",
     "text": [
      "Joy 28\n"
     ]
    }
   ],
   "source": [
    "print(obj)"
   ]
  },
  {
   "cell_type": "code",
   "execution_count": 12,
   "id": "67754e34",
   "metadata": {},
   "outputs": [
    {
     "name": "stdout",
     "output_type": "stream",
     "text": [
      "The number is Even\n"
     ]
    }
   ],
   "source": [
    "def func2(number):\n",
    "    if number%2==0:\n",
    "        print(\"The number is Even\")\n",
    "    else:\n",
    "        print(\"The number is odd\")\n",
    "        \n",
    "ob=func2(20)"
   ]
  },
  {
   "cell_type": "code",
   "execution_count": 44,
   "id": "317558a9",
   "metadata": {},
   "outputs": [],
   "source": [
    "def func3(num):\n",
    "    if num<18:\n",
    "        print(\"Under 18.\")\n",
    "    else:\n",
    "        print(\"Adult Person.\")"
   ]
  },
  {
   "cell_type": "code",
   "execution_count": 45,
   "id": "4a3904da",
   "metadata": {},
   "outputs": [
    {
     "name": "stdout",
     "output_type": "stream",
     "text": [
      "Adult Person.\n"
     ]
    }
   ],
   "source": [
    "ob3=func3(20)"
   ]
  },
  {
   "cell_type": "code",
   "execution_count": 17,
   "id": "39a9ce58",
   "metadata": {},
   "outputs": [
    {
     "name": "stdout",
     "output_type": "stream",
     "text": [
      "1225\n"
     ]
    }
   ],
   "source": [
    "sum=0\n",
    "for i in range (1,50):\n",
    "    sum+=i\n",
    "    \n",
    "print(sum)"
   ]
  },
  {
   "cell_type": "code",
   "execution_count": 24,
   "id": "8bea773c",
   "metadata": {},
   "outputs": [
    {
     "name": "stdout",
     "output_type": "stream",
     "text": [
      "190\n"
     ]
    }
   ],
   "source": [
    "def func4(n):\n",
    "    sum=0\n",
    "    for i in range(n):\n",
    "        sum+=i \n",
    "    return sum\n",
    "\n",
    "ob4=func4(20)\n",
    "print(ob4)"
   ]
  },
  {
   "cell_type": "code",
   "execution_count": 26,
   "id": "4005fd88",
   "metadata": {},
   "outputs": [
    {
     "name": "stdout",
     "output_type": "stream",
     "text": [
      "190\n",
      "435\n"
     ]
    }
   ],
   "source": [
    "def func4(n):\n",
    "    sum = 0\n",
    "    for i in range(n):\n",
    "        \n",
    "        sum += i\n",
    "    return sum\n",
    "\n",
    "ob4 = func4(20)\n",
    "ob5=func4(30)\n",
    "print(ob4)\n",
    "print(ob5)"
   ]
  },
  {
   "cell_type": "code",
   "execution_count": 27,
   "id": "d9f41dc8",
   "metadata": {},
   "outputs": [],
   "source": [
    "class name_class:\n",
    "    def name_func(name):\n",
    "        name=\"Joy\"\n",
    "        return name"
   ]
  },
  {
   "cell_type": "code",
   "execution_count": 31,
   "id": "a85d9a29",
   "metadata": {},
   "outputs": [
    {
     "name": "stdout",
     "output_type": "stream",
     "text": [
      "Joy\n"
     ]
    }
   ],
   "source": [
    "class_obj=name_class()\n",
    "print(class_obj.name_func())"
   ]
  },
  {
   "cell_type": "code",
   "execution_count": 29,
   "id": "4dfccf7b",
   "metadata": {},
   "outputs": [
    {
     "name": "stdout",
     "output_type": "stream",
     "text": [
      "<__main__.name_class object at 0x7f92fc4689d0>\n"
     ]
    }
   ],
   "source": [
    "print(class_obj)"
   ]
  },
  {
   "cell_type": "code",
   "execution_count": 50,
   "id": "e8279ab7",
   "metadata": {},
   "outputs": [],
   "source": [
    "class par:\n",
    "    def __init__(self,age):\n",
    "        self.age=age\n",
    "        func3(self.age)"
   ]
  },
  {
   "cell_type": "code",
   "execution_count": 51,
   "id": "c0ea227d",
   "metadata": {},
   "outputs": [
    {
     "name": "stdout",
     "output_type": "stream",
     "text": [
      "Under 18.\n"
     ]
    }
   ],
   "source": [
    "o=par(age=2)"
   ]
  },
  {
   "cell_type": "code",
   "execution_count": null,
   "id": "cf9ed8fe",
   "metadata": {},
   "outputs": [],
   "source": []
  }
 ],
 "metadata": {
  "kernelspec": {
   "display_name": "Python 3 (ipykernel)",
   "language": "python",
   "name": "python3"
  },
  "language_info": {
   "codemirror_mode": {
    "name": "ipython",
    "version": 3
   },
   "file_extension": ".py",
   "mimetype": "text/x-python",
   "name": "python",
   "nbconvert_exporter": "python",
   "pygments_lexer": "ipython3",
   "version": "3.8.10"
  }
 },
 "nbformat": 4,
 "nbformat_minor": 5
}
