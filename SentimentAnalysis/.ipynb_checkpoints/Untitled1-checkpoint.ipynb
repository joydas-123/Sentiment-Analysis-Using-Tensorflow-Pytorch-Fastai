{
 "cells": [
  {
   "cell_type": "code",
   "execution_count": 3,
   "id": "3a839f99",
   "metadata": {},
   "outputs": [],
   "source": [
    "df =pd.read_csv(\"data.csv\")"
   ]
  },
  {
   "cell_type": "code",
   "execution_count": 4,
   "id": "67620260",
   "metadata": {},
   "outputs": [
    {
     "data": {
      "text/html": [
       "<div>\n",
       "<style scoped>\n",
       "    .dataframe tbody tr th:only-of-type {\n",
       "        vertical-align: middle;\n",
       "    }\n",
       "\n",
       "    .dataframe tbody tr th {\n",
       "        vertical-align: top;\n",
       "    }\n",
       "\n",
       "    .dataframe thead th {\n",
       "        text-align: right;\n",
       "    }\n",
       "</style>\n",
       "<table border=\"1\" class=\"dataframe\">\n",
       "  <thead>\n",
       "    <tr style=\"text-align: right;\">\n",
       "      <th></th>\n",
       "      <th>Sentence</th>\n",
       "      <th>Sentiment</th>\n",
       "    </tr>\n",
       "  </thead>\n",
       "  <tbody>\n",
       "    <tr>\n",
       "      <th>0</th>\n",
       "      <td>The GeoSolutions technology will leverage Bene...</td>\n",
       "      <td>positive</td>\n",
       "    </tr>\n",
       "    <tr>\n",
       "      <th>1</th>\n",
       "      <td>$ESI on lows, down $1.50 to $2.50 BK a real po...</td>\n",
       "      <td>negative</td>\n",
       "    </tr>\n",
       "    <tr>\n",
       "      <th>2</th>\n",
       "      <td>For the last quarter of 2010 , Componenta 's n...</td>\n",
       "      <td>positive</td>\n",
       "    </tr>\n",
       "    <tr>\n",
       "      <th>3</th>\n",
       "      <td>According to the Finnish-Russian Chamber of Co...</td>\n",
       "      <td>neutral</td>\n",
       "    </tr>\n",
       "    <tr>\n",
       "      <th>4</th>\n",
       "      <td>The Swedish buyout firm has sold its remaining...</td>\n",
       "      <td>neutral</td>\n",
       "    </tr>\n",
       "  </tbody>\n",
       "</table>\n",
       "</div>"
      ],
      "text/plain": [
       "                                            Sentence Sentiment\n",
       "0  The GeoSolutions technology will leverage Bene...  positive\n",
       "1  $ESI on lows, down $1.50 to $2.50 BK a real po...  negative\n",
       "2  For the last quarter of 2010 , Componenta 's n...  positive\n",
       "3  According to the Finnish-Russian Chamber of Co...   neutral\n",
       "4  The Swedish buyout firm has sold its remaining...   neutral"
      ]
     },
     "execution_count": 4,
     "metadata": {},
     "output_type": "execute_result"
    }
   ],
   "source": [
    "df.head()"
   ]
  },
  {
   "cell_type": "code",
   "execution_count": 5,
   "id": "7a783d15",
   "metadata": {},
   "outputs": [
    {
     "data": {
      "text/plain": [
       "(5842, 2)"
      ]
     },
     "execution_count": 5,
     "metadata": {},
     "output_type": "execute_result"
    }
   ],
   "source": [
    "df.shape"
   ]
  },
  {
   "cell_type": "code",
   "execution_count": 6,
   "id": "87a0ef0b",
   "metadata": {},
   "outputs": [
    {
     "data": {
      "text/plain": [
       "Index(['Sentence', 'Sentiment'], dtype='object')"
      ]
     },
     "execution_count": 6,
     "metadata": {},
     "output_type": "execute_result"
    }
   ],
   "source": [
    "df.columns"
   ]
  },
  {
   "cell_type": "code",
   "execution_count": 7,
   "id": "3896b8b0",
   "metadata": {},
   "outputs": [
    {
     "data": {
      "text/plain": [
       "Sentence     0\n",
       "Sentiment    0\n",
       "dtype: int64"
      ]
     },
     "execution_count": 7,
     "metadata": {},
     "output_type": "execute_result"
    }
   ],
   "source": [
    "df.isnull().sum()"
   ]
  },
  {
   "cell_type": "code",
   "execution_count": 8,
   "id": "ccdef201",
   "metadata": {},
   "outputs": [],
   "source": [
    "import seaborn as sns\n",
    "import matplotlib.pyplot as plt"
   ]
  },
  {
   "cell_type": "code",
   "execution_count": 9,
   "id": "1b364d4b",
   "metadata": {},
   "outputs": [
    {
     "data": {
      "image/png": "[encoded data removed]",
      "text/plain": [
       "<Figure size 640x480 with 1 Axes>"
      ]
     },
     "metadata": {},
     "output_type": "display_data"
    }
   ],
   "source": [
    "import pandas as pd\n",
    "import seaborn as sns\n",
    "import matplotlib.pyplot as plt\n",
    "\n",
    "data = pd.DataFrame(df[\"Sentiment\"])\n",
    "\n",
    "sns.countplot(x=\"Sentiment\", data=data)\n",
    "for p in plt.gca().patches:\n",
    "    plt.gca().annotate(f'{p.get_height()}', (p.get_x() + p.get_width() / 2., p.get_height()),\n",
    "                       ha='center', va='center', xytext=(0, 10), textcoords='offset points')\n",
    "\n",
    "plt.show()"
   ]
  },
  {
   "cell_type": "code",
   "execution_count": 10,
   "id": "0f3be461",
   "metadata": {},
   "outputs": [
    {
     "data": {
      "text/plain": [
       "Sentiment\n",
       "neutral     3130\n",
       "positive    1852\n",
       "negative     860\n",
       "Name: count, dtype: int64"
      ]
     },
     "execution_count": 10,
     "metadata": {},
     "output_type": "execute_result"
    }
   ],
   "source": [
    "df[\"Sentiment\"].value_counts()"
   ]
  },
  {
   "cell_type": "code",
   "execution_count": 11,
   "id": "3c8f9ee3",
   "metadata": {},
   "outputs": [],
   "source": [
    "labels=df.Sentiment.unique()"
   ]
  },
  {
   "cell_type": "code",
   "execution_count": 12,
   "id": "05114dba",
   "metadata": {},
   "outputs": [],
   "source": [
    "label_dict={}\n",
    "for index, label in enumerate(labels):\n",
    "    label_dict[label]=index"
   ]
  },
  {
   "cell_type": "code",
   "execution_count": 13,
   "id": "c6b17278",
   "metadata": {},
   "outputs": [
    {
     "data": {
      "text/plain": [
       "{'positive': 0, 'negative': 1, 'neutral': 2}"
      ]
     },
     "execution_count": 13,
     "metadata": {},
     "output_type": "execute_result"
    }
   ],
   "source": [
    "label_dict"
   ]
  },
  {
   "cell_type": "code",
   "execution_count": 14,
   "id": "7048f3e2",
   "metadata": {},
   "outputs": [],
   "source": [
    "df.Sentiment=df.Sentiment.map(label_dict)"
   ]
  },
  {
   "cell_type": "code",
   "execution_count": 15,
   "id": "df3e9ece",
   "metadata": {},
   "outputs": [
    {
     "data": {
      "text/html": [
       "<div>\n",
       "<style scoped>\n",
       "    .dataframe tbody tr th:only-of-type {\n",
       "        vertical-align: middle;\n",
       "    }\n",
       "\n",
       "    .dataframe tbody tr th {\n",
       "        vertical-align: top;\n",
       "    }\n",
       "\n",
       "    .dataframe thead th {\n",
       "        text-align: right;\n",
       "    }\n",
       "</style>\n",
       "<table border=\"1\" class=\"dataframe\">\n",
       "  <thead>\n",
       "    <tr style=\"text-align: right;\">\n",
       "      <th></th>\n",
       "      <th>Sentence</th>\n",
       "      <th>Sentiment</th>\n",
       "    </tr>\n",
       "  </thead>\n",
       "  <tbody>\n",
       "    <tr>\n",
       "      <th>0</th>\n",
       "      <td>The GeoSolutions technology will leverage Bene...</td>\n",
       "      <td>0</td>\n",
       "    </tr>\n",
       "    <tr>\n",
       "      <th>1</th>\n",
       "      <td>$ESI on lows, down $1.50 to $2.50 BK a real po...</td>\n",
       "      <td>1</td>\n",
       "    </tr>\n",
       "    <tr>\n",
       "      <th>2</th>\n",
       "      <td>For the last quarter of 2010 , Componenta 's n...</td>\n",
       "      <td>0</td>\n",
       "    </tr>\n",
       "    <tr>\n",
       "      <th>3</th>\n",
       "      <td>According to the Finnish-Russian Chamber of Co...</td>\n",
       "      <td>2</td>\n",
       "    </tr>\n",
       "    <tr>\n",
       "      <th>4</th>\n",
       "      <td>The Swedish buyout firm has sold its remaining...</td>\n",
       "      <td>2</td>\n",
       "    </tr>\n",
       "  </tbody>\n",
       "</table>\n",
       "</div>"
      ],
      "text/plain": [
       "                                            Sentence  Sentiment\n",
       "0  The GeoSolutions technology will leverage Bene...          0\n",
       "1  $ESI on lows, down $1.50 to $2.50 BK a real po...          1\n",
       "2  For the last quarter of 2010 , Componenta 's n...          0\n",
       "3  According to the Finnish-Russian Chamber of Co...          2\n",
       "4  The Swedish buyout firm has sold its remaining...          2"
      ]
     },
     "execution_count": 15,
     "metadata": {},
     "output_type": "execute_result"
    }
   ],
   "source": [
    "df.head()"
   ]
  },
  {
   "cell_type": "code",
   "execution_count": 16,
   "id": "dbd08ffb",
   "metadata": {},
   "outputs": [],
   "source": [
    "X=df.index.values\n",
    "Y=df[\"Sentiment\"].values"
   ]
  },
  {
   "cell_type": "code",
   "execution_count": 17,
   "id": "425897ae",
   "metadata": {},
   "outputs": [],
   "source": [
    "from sklearn.model_selection import train_test_split"
   ]
  },
  {
   "cell_type": "code",
   "execution_count": 18,
   "id": "285c5022",
   "metadata": {},
   "outputs": [],
   "source": [
    "X_train,X_temp,Y_train,Y_temp=train_test_split(X,Y,random_state=7,test_size=0.25,\n",
    "                                              stratify=df.Sentiment.values)\n",
    "\n",
    "X_val,X_test,Y_val,Y_test=train_test_split(X_temp,Y_temp,random_state=7,test_size=0.5)"
   ]
  },
  {
   "cell_type": "code",
   "execution_count": 19,
   "id": "6c6237cc",
   "metadata": {},
   "outputs": [
    {
     "name": "stdout",
     "output_type": "stream",
     "text": [
      "(4381,) (4381,)\n",
      "(731,) (731,)\n",
      "(730,) (730,)\n"
     ]
    }
   ],
   "source": [
    "print(X_train.shape,Y_train.shape)\n",
    "print(X_test.shape,Y_test.shape)\n",
    "print(X_val.shape,Y_val.shape)"
   ]
  },
  {
   "cell_type": "code",
   "execution_count": 20,
   "id": "1ba53584",
   "metadata": {},
   "outputs": [],
   "source": [
    "df[\"extra_column\"]=df.shape[0]*[\"none\"]"
   ]
  },
  {
   "cell_type": "code",
   "execution_count": 21,
   "id": "2d8f87d5",
   "metadata": {},
   "outputs": [
    {
     "data": {
      "text/html": [
       "<div>\n",
       "<style scoped>\n",
       "    .dataframe tbody tr th:only-of-type {\n",
       "        vertical-align: middle;\n",
       "    }\n",
       "\n",
       "    .dataframe tbody tr th {\n",
       "        vertical-align: top;\n",
       "    }\n",
       "\n",
       "    .dataframe thead th {\n",
       "        text-align: right;\n",
       "    }\n",
       "</style>\n",
       "<table border=\"1\" class=\"dataframe\">\n",
       "  <thead>\n",
       "    <tr style=\"text-align: right;\">\n",
       "      <th></th>\n",
       "      <th>Sentence</th>\n",
       "      <th>Sentiment</th>\n",
       "      <th>extra_column</th>\n",
       "    </tr>\n",
       "  </thead>\n",
       "  <tbody>\n",
       "    <tr>\n",
       "      <th>0</th>\n",
       "      <td>The GeoSolutions technology will leverage Bene...</td>\n",
       "      <td>0</td>\n",
       "      <td>none</td>\n",
       "    </tr>\n",
       "    <tr>\n",
       "      <th>1</th>\n",
       "      <td>$ESI on lows, down $1.50 to $2.50 BK a real po...</td>\n",
       "      <td>1</td>\n",
       "      <td>none</td>\n",
       "    </tr>\n",
       "    <tr>\n",
       "      <th>2</th>\n",
       "      <td>For the last quarter of 2010 , Componenta 's n...</td>\n",
       "      <td>0</td>\n",
       "      <td>none</td>\n",
       "    </tr>\n",
       "    <tr>\n",
       "      <th>3</th>\n",
       "      <td>According to the Finnish-Russian Chamber of Co...</td>\n",
       "      <td>2</td>\n",
       "      <td>none</td>\n",
       "    </tr>\n",
       "    <tr>\n",
       "      <th>4</th>\n",
       "      <td>The Swedish buyout firm has sold its remaining...</td>\n",
       "      <td>2</td>\n",
       "      <td>none</td>\n",
       "    </tr>\n",
       "  </tbody>\n",
       "</table>\n",
       "</div>"
      ],
      "text/plain": [
       "                                            Sentence  Sentiment extra_column\n",
       "0  The GeoSolutions technology will leverage Bene...          0         none\n",
       "1  $ESI on lows, down $1.50 to $2.50 BK a real po...          1         none\n",
       "2  For the last quarter of 2010 , Componenta 's n...          0         none\n",
       "3  According to the Finnish-Russian Chamber of Co...          2         none\n",
       "4  The Swedish buyout firm has sold its remaining...          2         none"
      ]
     },
     "execution_count": 21,
     "metadata": {},
     "output_type": "execute_result"
    }
   ],
   "source": [
    "df.head()"
   ]
  },
  {
   "cell_type": "code",
   "execution_count": 22,
   "id": "7a7946be",
   "metadata": {},
   "outputs": [
    {
     "name": "stdout",
     "output_type": "stream",
     "text": [
      "RangeIndex(start=0, stop=5842, step=1)\n"
     ]
    }
   ],
   "source": [
    "print(df.index)"
   ]
  },
  {
   "cell_type": "code",
   "execution_count": 23,
   "id": "f2e80054",
   "metadata": {},
   "outputs": [
    {
     "name": "stdout",
     "output_type": "stream",
     "text": [
      "[ 931 5355 5170 ... 1245 4782  217]\n"
     ]
    }
   ],
   "source": [
    "print(X_train)"
   ]
  },
  {
   "cell_type": "code",
   "execution_count": 24,
   "id": "c8a3075b",
   "metadata": {},
   "outputs": [],
   "source": [
    "df.loc[X_train,\"extra_column\"]=\"train\"\n",
    "df.loc[X_test,\"extra_column\"]=\"test\"\n",
    "df.loc[X_val,\"extra_column\"]=\"val\""
   ]
  },
  {
   "cell_type": "code",
   "execution_count": 25,
   "id": "a9370589",
   "metadata": {},
   "outputs": [
    {
     "data": {
      "text/html": [
       "<div>\n",
       "<style scoped>\n",
       "    .dataframe tbody tr th:only-of-type {\n",
       "        vertical-align: middle;\n",
       "    }\n",
       "\n",
       "    .dataframe tbody tr th {\n",
       "        vertical-align: top;\n",
       "    }\n",
       "\n",
       "    .dataframe thead th {\n",
       "        text-align: right;\n",
       "    }\n",
       "</style>\n",
       "<table border=\"1\" class=\"dataframe\">\n",
       "  <thead>\n",
       "    <tr style=\"text-align: right;\">\n",
       "      <th></th>\n",
       "      <th></th>\n",
       "      <th>Sentence</th>\n",
       "    </tr>\n",
       "    <tr>\n",
       "      <th>Sentiment</th>\n",
       "      <th>extra_column</th>\n",
       "      <th></th>\n",
       "    </tr>\n",
       "  </thead>\n",
       "  <tbody>\n",
       "    <tr>\n",
       "      <th rowspan=\"3\" valign=\"top\">0</th>\n",
       "      <th>test</th>\n",
       "      <td>235</td>\n",
       "    </tr>\n",
       "    <tr>\n",
       "      <th>train</th>\n",
       "      <td>1389</td>\n",
       "    </tr>\n",
       "    <tr>\n",
       "      <th>val</th>\n",
       "      <td>228</td>\n",
       "    </tr>\n",
       "    <tr>\n",
       "      <th rowspan=\"3\" valign=\"top\">1</th>\n",
       "      <th>test</th>\n",
       "      <td>106</td>\n",
       "    </tr>\n",
       "    <tr>\n",
       "      <th>train</th>\n",
       "      <td>645</td>\n",
       "    </tr>\n",
       "    <tr>\n",
       "      <th>val</th>\n",
       "      <td>109</td>\n",
       "    </tr>\n",
       "    <tr>\n",
       "      <th rowspan=\"3\" valign=\"top\">2</th>\n",
       "      <th>test</th>\n",
       "      <td>390</td>\n",
       "    </tr>\n",
       "    <tr>\n",
       "      <th>train</th>\n",
       "      <td>2347</td>\n",
       "    </tr>\n",
       "    <tr>\n",
       "      <th>val</th>\n",
       "      <td>393</td>\n",
       "    </tr>\n",
       "  </tbody>\n",
       "</table>\n",
       "</div>"
      ],
      "text/plain": [
       "                        Sentence\n",
       "Sentiment extra_column          \n",
       "0         test               235\n",
       "          train             1389\n",
       "          val                228\n",
       "1         test               106\n",
       "          train              645\n",
       "          val                109\n",
       "2         test               390\n",
       "          train             2347\n",
       "          val                393"
      ]
     },
     "execution_count": 25,
     "metadata": {},
     "output_type": "execute_result"
    }
   ],
   "source": [
    "df.groupby([\"Sentiment\",\"extra_column\"]).count()"
   ]
  },
  {
   "cell_type": "code",
   "execution_count": 26,
   "id": "048fc5a7",
   "metadata": {},
   "outputs": [
    {
     "name": "stderr",
     "output_type": "stream",
     "text": [
      "/usr/lib/python3/dist-packages/requests/__init__.py:89: RequestsDependencyWarning: urllib3 (1.26.16) or chardet (3.0.4) doesn't match a supported version!\n",
      "  warnings.warn(\"urllib3 ({}) or chardet ({}) doesn't match a supported \"\n"
     ]
    }
   ],
   "source": [
    "from transformers import BertTokenizer"
   ]
  },
  {
   "cell_type": "code",
   "execution_count": 27,
   "id": "c6179eeb",
   "metadata": {},
   "outputs": [],
   "source": [
    "tokenizer=BertTokenizer.from_pretrained(\"bert-base-uncased\")"
   ]
  },
  {
   "cell_type": "code",
   "execution_count": 28,
   "id": "a2c23f7c",
   "metadata": {},
   "outputs": [
    {
     "data": {
      "text/plain": [
       "315"
      ]
     },
     "execution_count": 28,
     "metadata": {},
     "output_type": "execute_result"
    }
   ],
   "source": [
    "max_length=df.Sentence.str.len().max()\n",
    "max_length"
   ]
  },
  {
   "cell_type": "code",
   "execution_count": 29,
   "id": "58d2403d",
   "metadata": {},
   "outputs": [
    {
     "name": "stderr",
     "output_type": "stream",
     "text": [
      "Truncation was not explicitly activated but `max_length` is provided a specific value, please use `truncation=True` to explicitly truncate examples to max length. Defaulting to 'longest_first' truncation strategy. If you encode pairs of sequences (GLUE-style) with the tokenizer you can select this strategy more precisely by providing a specific strategy to `truncation`.\n",
      "/home/joy/.local/lib/python3.8/site-packages/transformers/tokenization_utils_base.py:2364: FutureWarning: The `pad_to_max_length` argument is deprecated and will be removed in a future version, use `padding=True` or `padding='longest'` to pad to the longest sequence in the batch, or use `padding='max_length'` to pad to a max length. In this case, you can give a specific length with `max_length` (e.g. `max_length=45`) or leave max_length to None to pad to the maximal input size of the model (e.g. 512 for Bert).\n",
      "  warnings.warn(\n",
      "/home/joy/.local/lib/python3.8/site-packages/transformers/tokenization_utils_base.py:2364: FutureWarning: The `pad_to_max_length` argument is deprecated and will be removed in a future version, use `padding=True` or `padding='longest'` to pad to the longest sequence in the batch, or use `padding='max_length'` to pad to a max length. In this case, you can give a specific length with `max_length` (e.g. `max_length=45`) or leave max_length to None to pad to the maximal input size of the model (e.g. 512 for Bert).\n",
      "  warnings.warn(\n"
     ]
    }
   ],
   "source": [
    "encode_train_text=tokenizer.batch_encode_plus(df[df[\"extra_column\"]==\"train\"].Sentence.values,\n",
    "                                             add_special_tokens=True,\n",
    "                                             max_length=512,\n",
    "                                             return_attention_mask=True,\n",
    "                                             return_token_type_ids=True,\n",
    "                                             pad_to_max_length=True,\n",
    "                                             return_tensors=\"pt\")\n",
    "\n",
    "encode_test_text=tokenizer.batch_encode_plus(df[df[\"extra_column\"]==\"test\"].Sentence.values,\n",
    "                                            add_special_tokens=True,\n",
    "                                            return_attention_mask=True,\n",
    "                                            pad_to_max_length=True,\n",
    "                                            return_token_type_ids=True,\n",
    "                                            return_tensors=\"pt\")\n",
    "\n",
    "encode_validation_text=tokenizer.batch_encode_plus(df[df[\"extra_column\"]==\"val\"].Sentence.values,\n",
    "                                                  add_special_tokens=True,\n",
    "                                                  return_attention_mask=True,\n",
    "                                                  return_token_type_ids=True,\n",
    "                                                  pad_to_max_length=True,\n",
    "                                                  return_tensors=\"pt\")"
   ]
  },
  {
   "cell_type": "code",
   "execution_count": 30,
   "id": "9a9fe592",
   "metadata": {},
   "outputs": [
    {
     "data": {
      "text/plain": [
       "{'input_ids': tensor([[  101,  1996, 20248,  ...,     0,     0,     0],\n",
       "        [  101,  1002,  9686,  ...,     0,     0,     0],\n",
       "        [  101,  2429,  2000,  ...,     0,     0,     0],\n",
       "        ...,\n",
       "        [  101,  2429,  7829,  ...,     0,     0,     0],\n",
       "        [  101,  1999,  1996,  ...,     0,     0,     0],\n",
       "        [  101, 12331, 21358,  ...,     0,     0,     0]]), 'token_type_ids': tensor([[0, 0, 0,  ..., 0, 0, 0],\n",
       "        [0, 0, 0,  ..., 0, 0, 0],\n",
       "        [0, 0, 0,  ..., 0, 0, 0],\n",
       "        ...,\n",
       "        [0, 0, 0,  ..., 0, 0, 0],\n",
       "        [0, 0, 0,  ..., 0, 0, 0],\n",
       "        [0, 0, 0,  ..., 0, 0, 0]]), 'attention_mask': tensor([[1, 1, 1,  ..., 0, 0, 0],\n",
       "        [1, 1, 1,  ..., 0, 0, 0],\n",
       "        [1, 1, 1,  ..., 0, 0, 0],\n",
       "        ...,\n",
       "        [1, 1, 1,  ..., 0, 0, 0],\n",
       "        [1, 1, 1,  ..., 0, 0, 0],\n",
       "        [1, 1, 1,  ..., 0, 0, 0]])}"
      ]
     },
     "execution_count": 30,
     "metadata": {},
     "output_type": "execute_result"
    }
   ],
   "source": [
    "encode_train_text"
   ]
  },
  {
   "cell_type": "code",
   "execution_count": 31,
   "id": "d59e2984",
   "metadata": {},
   "outputs": [
    {
     "data": {
      "text/plain": [
       "{'input_ids': tensor([[  101,  1996,  4467,  ...,     0,     0,     0],\n",
       "        [  101,  1996, 12572,  ...,     0,     0,     0],\n",
       "        [  101,  1996,  2194,  ...,     0,     0,     0],\n",
       "        ...,\n",
       "        [  101, 15253, 11475,  ...,     0,     0,     0],\n",
       "        [  101,  1006,  4748,  ...,   102,     0,     0],\n",
       "        [  101, 10518,  1999,  ...,     0,     0,     0]]), 'token_type_ids': tensor([[0, 0, 0,  ..., 0, 0, 0],\n",
       "        [0, 0, 0,  ..., 0, 0, 0],\n",
       "        [0, 0, 0,  ..., 0, 0, 0],\n",
       "        ...,\n",
       "        [0, 0, 0,  ..., 0, 0, 0],\n",
       "        [0, 0, 0,  ..., 0, 0, 0],\n",
       "        [0, 0, 0,  ..., 0, 0, 0]]), 'attention_mask': tensor([[1, 1, 1,  ..., 0, 0, 0],\n",
       "        [1, 1, 1,  ..., 0, 0, 0],\n",
       "        [1, 1, 1,  ..., 0, 0, 0],\n",
       "        ...,\n",
       "        [1, 1, 1,  ..., 0, 0, 0],\n",
       "        [1, 1, 1,  ..., 1, 0, 0],\n",
       "        [1, 1, 1,  ..., 0, 0, 0]])}"
      ]
     },
     "execution_count": 31,
     "metadata": {},
     "output_type": "execute_result"
    }
   ],
   "source": [
    "encode_test_text"
   ]
  },
  {
   "cell_type": "code",
   "execution_count": 32,
   "id": "78ea872a",
   "metadata": {},
   "outputs": [
    {
     "data": {
      "text/plain": [
       "{'input_ids': tensor([[  101,  2005,  1996,  ...,     0,     0,     0],\n",
       "        [  101,  1002, 20066,  ...,     0,     0,     0],\n",
       "        [  101,  4518,  5804,  ...,     0,     0,     0],\n",
       "        ...,\n",
       "        [  101,  1002,  3477,  ...,     0,     0,     0],\n",
       "        [  101,  2012,  2203,  ...,     0,     0,     0],\n",
       "        [  101,  6983,  9722,  ...,     0,     0,     0]]), 'token_type_ids': tensor([[0, 0, 0,  ..., 0, 0, 0],\n",
       "        [0, 0, 0,  ..., 0, 0, 0],\n",
       "        [0, 0, 0,  ..., 0, 0, 0],\n",
       "        ...,\n",
       "        [0, 0, 0,  ..., 0, 0, 0],\n",
       "        [0, 0, 0,  ..., 0, 0, 0],\n",
       "        [0, 0, 0,  ..., 0, 0, 0]]), 'attention_mask': tensor([[1, 1, 1,  ..., 0, 0, 0],\n",
       "        [1, 1, 1,  ..., 0, 0, 0],\n",
       "        [1, 1, 1,  ..., 0, 0, 0],\n",
       "        ...,\n",
       "        [1, 1, 1,  ..., 0, 0, 0],\n",
       "        [1, 1, 1,  ..., 0, 0, 0],\n",
       "        [1, 1, 1,  ..., 0, 0, 0]])}"
      ]
     },
     "execution_count": 32,
     "metadata": {},
     "output_type": "execute_result"
    }
   ],
   "source": [
    "encode_validation_text"
   ]
  },
  {
   "cell_type": "code",
   "execution_count": 33,
   "id": "8380d144",
   "metadata": {},
   "outputs": [],
   "source": [
    "import torch"
   ]
  },
  {
   "cell_type": "code",
   "execution_count": 34,
   "id": "0f4727ae",
   "metadata": {},
   "outputs": [
    {
     "name": "stderr",
     "output_type": "stream",
     "text": [
      "/tmp/ipykernel_8396/2815863233.py:1: UserWarning: To copy construct from a tensor, it is recommended to use sourceTensor.clone().detach() or sourceTensor.clone().detach().requires_grad_(True), rather than torch.tensor(sourceTensor).\n",
      "  train_input_ids=torch.tensor(encode_train_text[\"input_ids\"])\n",
      "/tmp/ipykernel_8396/2815863233.py:2: UserWarning: To copy construct from a tensor, it is recommended to use sourceTensor.clone().detach() or sourceTensor.clone().detach().requires_grad_(True), rather than torch.tensor(sourceTensor).\n",
      "  train_attention_mask=torch.tensor(encode_train_text[\"attention_mask\"])\n"
     ]
    }
   ],
   "source": [
    "train_input_ids=torch.tensor(encode_train_text[\"input_ids\"])\n",
    "train_attention_mask=torch.tensor(encode_train_text[\"attention_mask\"])\n",
    "\n",
    "train_labels=torch.tensor(df[df[\"extra_column\"]==\"train\"].Sentiment.values)"
   ]
  },
  {
   "cell_type": "code",
   "execution_count": 35,
   "id": "e3062b28",
   "metadata": {},
   "outputs": [
    {
     "data": {
      "text/plain": [
       "tensor([[  101,  1996, 20248,  ...,     0,     0,     0],\n",
       "        [  101,  1002,  9686,  ...,     0,     0,     0],\n",
       "        [  101,  2429,  2000,  ...,     0,     0,     0],\n",
       "        ...,\n",
       "        [  101,  2429,  7829,  ...,     0,     0,     0],\n",
       "        [  101,  1999,  1996,  ...,     0,     0,     0],\n",
       "        [  101, 12331, 21358,  ...,     0,     0,     0]])"
      ]
     },
     "execution_count": 35,
     "metadata": {},
     "output_type": "execute_result"
    }
   ],
   "source": [
    "train_input_ids"
   ]
  },
  {
   "cell_type": "code",
   "execution_count": 36,
   "id": "c5ca0db1",
   "metadata": {},
   "outputs": [
    {
     "name": "stderr",
     "output_type": "stream",
     "text": [
      "/tmp/ipykernel_8396/3428054187.py:1: UserWarning: To copy construct from a tensor, it is recommended to use sourceTensor.clone().detach() or sourceTensor.clone().detach().requires_grad_(True), rather than torch.tensor(sourceTensor).\n",
      "  test_input_ids=torch.tensor(encode_test_text[\"input_ids\"])\n",
      "/tmp/ipykernel_8396/3428054187.py:2: UserWarning: To copy construct from a tensor, it is recommended to use sourceTensor.clone().detach() or sourceTensor.clone().detach().requires_grad_(True), rather than torch.tensor(sourceTensor).\n",
      "  test_attention_mask=torch.tensor(encode_test_text[\"attention_mask\"])\n"
     ]
    }
   ],
   "source": [
    "test_input_ids=torch.tensor(encode_test_text[\"input_ids\"])\n",
    "test_attention_mask=torch.tensor(encode_test_text[\"attention_mask\"])\n",
    "\n",
    "test_labels=torch.tensor(df[df[\"extra_column\"]==\"test\"].Sentiment.values)"
   ]
  },
  {
   "cell_type": "code",
   "execution_count": 37,
   "id": "19a8db35",
   "metadata": {},
   "outputs": [
    {
     "name": "stderr",
     "output_type": "stream",
     "text": [
      "/tmp/ipykernel_8396/2507538823.py:1: UserWarning: To copy construct from a tensor, it is recommended to use sourceTensor.clone().detach() or sourceTensor.clone().detach().requires_grad_(True), rather than torch.tensor(sourceTensor).\n",
      "  val_input_ids=torch.tensor(encode_validation_text[\"input_ids\"])\n",
      "/tmp/ipykernel_8396/2507538823.py:2: UserWarning: To copy construct from a tensor, it is recommended to use sourceTensor.clone().detach() or sourceTensor.clone().detach().requires_grad_(True), rather than torch.tensor(sourceTensor).\n",
      "  val_attention_mask=torch.tensor(encode_validation_text[\"attention_mask\"])\n"
     ]
    }
   ],
   "source": [
    "val_input_ids=torch.tensor(encode_validation_text[\"input_ids\"])\n",
    "val_attention_mask=torch.tensor(encode_validation_text[\"attention_mask\"])\n",
    "\n",
    "val_labels=torch.tensor(df[df[\"extra_column\"]==\"val\"].Sentiment.values)"
   ]
  },
  {
   "cell_type": "code",
   "execution_count": 38,
   "id": "c316aeda",
   "metadata": {},
   "outputs": [],
   "source": [
    "from torch.utils.data import TensorDataset"
   ]
  },
  {
   "cell_type": "code",
   "execution_count": 39,
   "id": "e9894dff",
   "metadata": {},
   "outputs": [],
   "source": [
    "train_dataset=TensorDataset(train_input_ids,\n",
    "                           train_attention_mask,\n",
    "                           train_labels)\n",
    "\n",
    "test_dataset=TensorDataset(test_input_ids,\n",
    "                          test_attention_mask,\n",
    "                          test_labels)\n",
    "\n",
    "val_dataset=TensorDataset(val_input_ids,\n",
    "                         val_attention_mask,\n",
    "                         val_labels)"
   ]
  },
  {
   "cell_type": "code",
   "execution_count": 40,
   "id": "ce478ec4",
   "metadata": {},
   "outputs": [
    {
     "name": "stdout",
     "output_type": "stream",
     "text": [
      "4381\n",
      "731\n",
      "730\n"
     ]
    }
   ],
   "source": [
    "print(len(train_dataset))\n",
    "print(len(test_dataset))\n",
    "print(len(val_dataset))"
   ]
  },
  {
   "cell_type": "code",
   "execution_count": 41,
   "id": "795001e1",
   "metadata": {},
   "outputs": [],
   "source": [
    "from torch.utils.data import DataLoader,RandomSampler"
   ]
  },
  {
   "cell_type": "code",
   "execution_count": 42,
   "id": "c84a4691",
   "metadata": {},
   "outputs": [],
   "source": [
    "train_dataloader=DataLoader(train_dataset,\n",
    "                           batch_size=64,\n",
    "                           sampler=RandomSampler(train_dataset))\n",
    "\n",
    "test_dataloader=DataLoader(train_dataset,\n",
    "                          batch_size=64,\n",
    "                          sampler=RandomSampler(test_dataset))\n",
    "\n",
    "val_dataloader=DataLoader(val_dataset,\n",
    "                         batch_size=64,\n",
    "                         sampler=RandomSampler(val_dataset))"
   ]
  },
  {
   "cell_type": "code",
   "execution_count": 43,
   "id": "d2e6621f",
   "metadata": {},
   "outputs": [],
   "source": [
    "from transformers import BertForSequenceClassification"
   ]
  },
  {
   "cell_type": "code",
   "execution_count": 44,
   "id": "15eaa005",
   "metadata": {},
   "outputs": [
    {
     "name": "stderr",
     "output_type": "stream",
     "text": [
      "Some weights of the model checkpoint at bert-base-uncased were not used when initializing BertForSequenceClassification: ['cls.predictions.decoder.weight', 'cls.seq_relationship.weight', 'cls.predictions.transform.dense.bias', 'cls.predictions.bias', 'cls.predictions.transform.dense.weight', 'cls.predictions.transform.LayerNorm.bias', 'cls.seq_relationship.bias', 'cls.predictions.transform.LayerNorm.weight']\n",
      "- This IS expected if you are initializing BertForSequenceClassification from the checkpoint of a model trained on another task or with another architecture (e.g. initializing a BertForSequenceClassification model from a BertForPreTraining model).\n",
      "- This IS NOT expected if you are initializing BertForSequenceClassification from the checkpoint of a model that you expect to be exactly identical (initializing a BertForSequenceClassification model from a BertForSequenceClassification model).\n",
      "Some weights of BertForSequenceClassification were not initialized from the model checkpoint at bert-base-uncased and are newly initialized: ['classifier.bias', 'classifier.weight']\n",
      "You should probably TRAIN this model on a down-stream task to be able to use it for predictions and inference.\n"
     ]
    }
   ],
   "source": [
    "pretrained_model=BertForSequenceClassification.from_pretrained(\"bert-base-uncased\")"
   ]
  },
  {
   "cell_type": "code",
   "execution_count": 45,
   "id": "0f69da24",
   "metadata": {},
   "outputs": [],
   "source": [
    "import torch.nn as nn"
   ]
  },
  {
   "cell_type": "markdown",
   "id": "37deba52",
   "metadata": {},
   "source": [
    "###### The purpose of concatenating the output of the LSTM and BERT before passing it through a fully connected layer is to combine information from both sources and create a joint representation that captures features from both the sequential context (captured by LSTM) and contextual embeddings (captured by BERT). This helps the model make more informed decisions by leveraging information from both types of representations."
   ]
  },
  {
   "cell_type": "markdown",
   "id": "ea13c93e",
   "metadata": {},
   "source": [
    "Here, self.bert_model.config.hidden_size is used to get the size of the BERT embeddings, and it's added to the size of the concatenated output of the bidirectional LSTM (2 * hidden_size). This combined size is used as the input size for the fully connected layer (fc1)."
   ]
  },
  {
   "cell_type": "code",
   "execution_count": 53,
   "id": "dc3f5600",
   "metadata": {},
   "outputs": [],
   "source": [
    "class SentimentAnalysisModel(nn.Module):\n",
    "    def __init__(self,pretrained_model,input_size_lstm,hidden_size,output_size):\n",
    "        super(SentimentAnalysisModel,self).__init__()\n",
    "        self.bert_model=BertForSequenceClassification.from_pretrained(pretrained_model)\n",
    "        self.dropout_bert=nn.Dropout(0.1)\n",
    "        \n",
    "        self.lstm=nn.LSTM(input_size_lstm,hidden_size,output_size,\n",
    "                          bidirectional=True,batch_first=True)\n",
    "        \n",
    "        self.fc1=nn.Linear(2*hidden_size+self.bert_model.config.hidden_size,hidden_size)\n",
    "        self.relu=nn.ReLU()\n",
    "        self.fc2=nn.Linear(hidden_size,output_size)\n",
    "        self.softmax=nn.Softmax(dim=1)\n",
    "        \n",
    "    def forward(self,input_ids,attention_mask,lstm_input):\n",
    "        #bert forward pass\n",
    "        outputs_bert=self.bert_model(input_ids,attention_mask)\n",
    "        bert_logits=outputs_bert.logits\n",
    "        bert_output=self.dropout_bert(bert_logits)\n",
    "        \n",
    "        #lstm forward pass\n",
    "        lstm_output,_=self.lstm(lstm_input)\n",
    "        \n",
    "        #Adding BERT and LSTM output\n",
    "        combined_output=torch.cat([bert_output,lstm_output[:,-1,:]],dim=1)\n",
    "        \n",
    "        #Additional fully connected layers\n",
    "        x=self.fc1(combined_output)\n",
    "        x=self.relu(x)\n",
    "        x=self.fc2(x)\n",
    "        x=self.softmax(x)\n",
    "        \n",
    "        return x"
   ]
  },
  {
   "cell_type": "code",
   "execution_count": 60,
   "id": "4e0a0bc7",
   "metadata": {},
   "outputs": [],
   "source": [
    "input_size_lstm=512\n",
    "hidden_size=64\n",
    "output_size=3"
   ]
  },
  {
   "cell_type": "code",
   "execution_count": 64,
   "id": "6ff3d0b4",
   "metadata": {},
   "outputs": [
    {
     "name": "stderr",
     "output_type": "stream",
     "text": [
      "Some weights of the model checkpoint at bert-base-uncased were not used when initializing BertForSequenceClassification: ['cls.predictions.decoder.weight', 'cls.seq_relationship.weight', 'cls.predictions.transform.dense.bias', 'cls.predictions.bias', 'cls.predictions.transform.dense.weight', 'cls.predictions.transform.LayerNorm.bias', 'cls.seq_relationship.bias', 'cls.predictions.transform.LayerNorm.weight']\n",
      "- This IS expected if you are initializing BertForSequenceClassification from the checkpoint of a model trained on another task or with another architecture (e.g. initializing a BertForSequenceClassification model from a BertForPreTraining model).\n",
      "- This IS NOT expected if you are initializing BertForSequenceClassification from the checkpoint of a model that you expect to be exactly identical (initializing a BertForSequenceClassification model from a BertForSequenceClassification model).\n",
      "Some weights of BertForSequenceClassification were not initialized from the model checkpoint at bert-base-uncased and are newly initialized: ['classifier.bias', 'classifier.weight']\n",
      "You should probably TRAIN this model on a down-stream task to be able to use it for predictions and inference.\n"
     ]
    }
   ],
   "source": [
    "Model=SentimentAnalysisModel(pretrained_model=\"bert-base-uncased\",\n",
    "                             input_size_lstm=input_size_lstm,\n",
    "                             hidden_size=hidden_size,\n",
    "                             output_size=output_size)"
   ]
  },
  {
   "cell_type": "code",
   "execution_count": 65,
   "id": "841b21fa",
   "metadata": {},
   "outputs": [],
   "source": [
    "#loss function\n",
    "criterion=nn.CrossEntropyLoss()"
   ]
  },
  {
   "cell_type": "code",
   "execution_count": 66,
   "id": "73566d1a",
   "metadata": {},
   "outputs": [],
   "source": [
    "#optimizer\n",
    "from transformers import AdamW"
   ]
  },
  {
   "cell_type": "code",
   "execution_count": 67,
   "id": "3f89dc72",
   "metadata": {},
   "outputs": [
    {
     "name": "stderr",
     "output_type": "stream",
     "text": [
      "/home/joy/.local/lib/python3.8/site-packages/transformers/optimization.py:407: FutureWarning: This implementation of AdamW is deprecated and will be removed in a future version. Use the PyTorch implementation torch.optim.AdamW instead, or set `no_deprecation_warning=True` to disable this warning\n",
      "  warnings.warn(\n"
     ]
    }
   ],
   "source": [
    "optimizer=AdamW(Model.parameters(),\n",
    "               lr=1e-6,\n",
    "               eps=1e-5)"
   ]
  },
  {
   "cell_type": "code",
   "execution_count": null,
   "id": "3dadaa23",
   "metadata": {},
   "outputs": [],
   "source": []
  }
 ],
 "metadata": {
  "kernelspec": {
   "display_name": "Python 3 (ipykernel)",
   "language": "python",
   "name": "python3"
  },
  "language_info": {
   "codemirror_mode": {
    "name": "ipython",
    "version": 3
   },
   "file_extension": ".py",
   "mimetype": "text/x-python",
   "name": "python",
   "nbconvert_exporter": "python",
   "pygments_lexer": "ipython3",
   "version": "3.8.10"
  }
 },
 "nbformat": 4,
 "nbformat_minor": 5
}
